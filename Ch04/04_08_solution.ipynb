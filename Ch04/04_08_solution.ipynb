{
 "cells": [
  {
   "cell_type": "markdown",
   "metadata": {},
   "source": [
    "# 04_07_challenge.ipynb - Perfect numbers"
   ]
  },
  {
   "cell_type": "code",
   "execution_count": null,
   "metadata": {},
   "outputs": [],
   "source": [
    "%%file snakefile\n",
    "\n",
    "rule sum:\n",
    "    output:\n",
    "        \"work/{n}_sum.txt\"\n",
    "    run:\n",
    "        with open(output[0], 'w') as outfile:\n",
    "            outfile.write(str(sum(2**k for k in range(int(wildcards.n)))))\n",
    "            \n",
    "rule product:\n",
    "    input:\n",
    "        \"work/{n}_sum.txt\"\n",
    "    output:\n",
    "        \"work/{n}_product.txt\"\n",
    "    run:\n",
    "        import sympy\n",
    "        \n",
    "        s = int(open(input[0], 'r').read())\n",
    "        \n",
    "        with open(output[0], 'w') as outfile:\n",
    "            if sympy.isprime(s):\n",
    "                outfile.write(str(s * 2**(int(wildcards.n) - 1)))\n",
    "            else:\n",
    "                outfile.write('0')\n",
    "            \n",
    "rule find:\n",
    "    input:\n",
    "        expand(\"work/{n}_product.txt\", n=range(1,21))\n",
    "    output:\n",
    "        \"work/perfect.txt\"\n",
    "    run:\n",
    "        with open(output[0], 'w') as outfile:\n",
    "            for inputfile in input:\n",
    "                p = int(open(inputfile, 'r').read())\n",
    "                \n",
    "                if p != 0:\n",
    "                    outfile.write(f'{p}\\n')\n"
   ]
  },
  {
   "cell_type": "code",
   "execution_count": null,
   "metadata": {},
   "outputs": [],
   "source": [
    "!mkdir work"
   ]
  },
  {
   "cell_type": "code",
   "execution_count": null,
   "metadata": {},
   "outputs": [],
   "source": [
    "!snakemake -j 4 work/perfect.txt"
   ]
  },
  {
   "cell_type": "code",
   "execution_count": null,
   "metadata": {},
   "outputs": [],
   "source": [
    "!cat work/perfect.txt\n",
    "# !type work\\perfect.txt on Windows"
   ]
  }
 ],
 "metadata": {
  "kernelspec": {
   "display_name": "Python 3",
   "language": "python",
   "name": "python3"
  },
  "language_info": {
   "codemirror_mode": {
    "name": "ipython",
    "version": 3
   },
   "file_extension": ".py",
   "mimetype": "text/x-python",
   "name": "python",
   "nbconvert_exporter": "python",
   "pygments_lexer": "ipython3",
   "version": "3.8.8"
  },
  "toc": {
   "base_numbering": 1,
   "nav_menu": {},
   "number_sections": true,
   "sideBar": true,
   "skip_h1_title": false,
   "title_cell": "Table of Contents",
   "title_sidebar": "Contents",
   "toc_cell": false,
   "toc_position": {},
   "toc_section_display": true,
   "toc_window_display": false
  }
 },
 "nbformat": 4,
 "nbformat_minor": 4
}
