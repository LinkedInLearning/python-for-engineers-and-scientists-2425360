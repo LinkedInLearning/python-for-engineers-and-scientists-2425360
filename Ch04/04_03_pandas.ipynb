{
 "cells": [
  {
   "cell_type": "markdown",
   "metadata": {},
   "source": [
    "# 04_03_pandas.ipynb - Data tables with Pandas"
   ]
  },
  {
   "cell_type": "code",
   "execution_count": null,
   "metadata": {},
   "outputs": [],
   "source": [
    "import requests\n",
    "\n",
    "import numpy as np\n",
    "import matplotlib.pyplot as pp\n",
    "import pandas as pd\n",
    "import astropy.units"
   ]
  },
  {
   "cell_type": "code",
   "execution_count": null,
   "metadata": {},
   "outputs": [],
   "source": [
    "# utility function from the last video\n",
    "\n",
    "def dump(url, filename):\n",
    "    r = requests.get(url)\n",
    "    \n",
    "    with open(filename, 'wb') as outfile:\n",
    "        outfile.write(r.content)"
   ]
  },
  {
   "cell_type": "code",
   "execution_count": null,
   "metadata": {},
   "outputs": [],
   "source": [
    "# in case of network problems, you can use the file cache/gwtc-20210726.csv\n",
    "dump('https://www.gw-openscience.org/eventapi/csv/GWTC', 'gwtc.csv')"
   ]
  },
  {
   "cell_type": "code",
   "execution_count": null,
   "metadata": {},
   "outputs": [],
   "source": [
    "gwtc = pd.read_csv('gwtc.csv')"
   ]
  },
  {
   "cell_type": "code",
   "execution_count": null,
   "metadata": {},
   "outputs": [],
   "source": [
    "gwtc"
   ]
  },
  {
   "cell_type": "code",
   "execution_count": null,
   "metadata": {},
   "outputs": [],
   "source": [
    "gwtc.head()"
   ]
  },
  {
   "cell_type": "code",
   "execution_count": null,
   "metadata": {},
   "outputs": [],
   "source": [
    "gwtc.info()"
   ]
  },
  {
   "cell_type": "code",
   "execution_count": null,
   "metadata": {},
   "outputs": [],
   "source": [
    "gwtc.describe()"
   ]
  },
  {
   "cell_type": "code",
   "execution_count": null,
   "metadata": {},
   "outputs": [],
   "source": [
    "gwtc_i = gwtc.set_index('id').sort_index()"
   ]
  },
  {
   "cell_type": "code",
   "execution_count": null,
   "metadata": {},
   "outputs": [],
   "source": [
    "gwtc_i.head()"
   ]
  },
  {
   "cell_type": "code",
   "execution_count": null,
   "metadata": {},
   "outputs": [],
   "source": [
    "gwtc_i.loc['GW150914-v3']"
   ]
  },
  {
   "cell_type": "code",
   "execution_count": null,
   "metadata": {},
   "outputs": [],
   "source": [
    "gwtc_i.loc['GW150914-v3':'GW151226-v2']"
   ]
  },
  {
   "cell_type": "code",
   "execution_count": null,
   "metadata": {},
   "outputs": [],
   "source": [
    "gwtc_i.luminosity_distance"
   ]
  },
  {
   "cell_type": "code",
   "execution_count": null,
   "metadata": {},
   "outputs": [],
   "source": [
    "(gwtc_i.luminosity_distance.max() * astropy.units.Mpc).to('lightyear')"
   ]
  },
  {
   "cell_type": "code",
   "execution_count": null,
   "metadata": {
    "scrolled": true
   },
   "outputs": [],
   "source": [
    "gwtc_i['total_mass_source']"
   ]
  },
  {
   "cell_type": "code",
   "execution_count": null,
   "metadata": {},
   "outputs": [],
   "source": [
    "# gwtc_i['total_mass_source'] = gwtc_i['mass_1_source'] + gwtc_i['mass_2_source']"
   ]
  },
  {
   "cell_type": "code",
   "execution_count": null,
   "metadata": {},
   "outputs": [],
   "source": [
    "missing = np.isnan(gwtc_i.total_mass_source)"
   ]
  },
  {
   "cell_type": "code",
   "execution_count": null,
   "metadata": {
    "scrolled": true
   },
   "outputs": [],
   "source": [
    "missing"
   ]
  },
  {
   "cell_type": "code",
   "execution_count": null,
   "metadata": {},
   "outputs": [],
   "source": [
    "gwtc_i.loc[missing, 'total_mass_source'] = (gwtc_i.loc[missing, 'mass_1_source'] +\n",
    "                                            gwtc_i.loc[missing, 'mass_2_source'])"
   ]
  },
  {
   "cell_type": "code",
   "execution_count": null,
   "metadata": {
    "scrolled": true
   },
   "outputs": [],
   "source": [
    "gwtc_i['total_mass_source']"
   ]
  },
  {
   "cell_type": "code",
   "execution_count": null,
   "metadata": {},
   "outputs": [],
   "source": [
    "pp.plot(gwtc_i.total_mass_source, gwtc_i.luminosity_distance, '.')\n",
    "pp.xlabel('total mass (Msun)')\n",
    "pp.ylabel('luminosity distance (Mpc)')"
   ]
  },
  {
   "cell_type": "code",
   "execution_count": null,
   "metadata": {},
   "outputs": [],
   "source": [
    "gwtc_i.plot.scatter('total_mass_source', 'luminosity_distance', s=50,\n",
    "                    figsize=(9,6))"
   ]
  },
  {
   "cell_type": "code",
   "execution_count": null,
   "metadata": {},
   "outputs": [],
   "source": [
    "gwtc_i.plot.scatter('total_mass_source', 'luminosity_distance',\n",
    "                    s=gwtc['network_matched_filter_snr'] * 15,  # some trial-and-error to set sizes just right\n",
    "                    linewidth=1, edgecolors='w',                # a white contour helps tell spots apart\n",
    "                    c=gwtc['redshift'], colormap='plasma',     # set colors using colormap \n",
    "                    sharex=False,    # make sure x label does not disappear (thanks, stackoverflow.com)\n",
    "                    figsize=(10,6))"
   ]
  },
  {
   "cell_type": "code",
   "execution_count": null,
   "metadata": {},
   "outputs": [],
   "source": [
    "gwtc_i.plot.scatter('mass_1_source', 'mass_2_source',\n",
    "                    s=gwtc['total_mass_source']*3,\n",
    "                    linewidth=1, edgecolors='w',\n",
    "                    c=gwtc['redshift'], colormap='plasma',\n",
    "                    sharex=False, figsize=(10,6))\n",
    "\n",
    "pp.plot([0,100],[0,100],'k:')\n",
    "pp.plot([0,100],[0,50],'k:')\n",
    "pp.plot([0,100],[0,20],'k:')\n",
    "\n",
    "pp.axis([0,100,0,100]);"
   ]
  }
 ],
 "metadata": {
  "kernelspec": {
   "display_name": "Python 3",
   "language": "python",
   "name": "python3"
  },
  "language_info": {
   "codemirror_mode": {
    "name": "ipython",
    "version": 3
   },
   "file_extension": ".py",
   "mimetype": "text/x-python",
   "name": "python",
   "nbconvert_exporter": "python",
   "pygments_lexer": "ipython3",
   "version": "3.8.8"
  },
  "toc": {
   "base_numbering": 1,
   "nav_menu": {},
   "number_sections": true,
   "sideBar": true,
   "skip_h1_title": false,
   "title_cell": "Table of Contents",
   "title_sidebar": "Contents",
   "toc_cell": false,
   "toc_position": {},
   "toc_section_display": true,
   "toc_window_display": false
  }
 },
 "nbformat": 4,
 "nbformat_minor": 4
}
