{
 "cells": [
  {
   "cell_type": "markdown",
   "metadata": {},
   "source": [
    "# 04_06_snakemake.ipynb - Scientific workflows with Snakemake"
   ]
  },
  {
   "cell_type": "code",
   "execution_count": null,
   "metadata": {},
   "outputs": [],
   "source": [
    "# conda install -c bioconda -c conda-forge snakemake-minimal"
   ]
  },
  {
   "cell_type": "code",
   "execution_count": null,
   "metadata": {},
   "outputs": [],
   "source": [
    "%%file Snakefile\n",
    "\n",
    "events = ['GW170817-v3', 'GW190521_074359-v1', 'GW190814-v2', 'GW190412-v3',\n",
    "          'GW190828_063405-v1', 'GW170814-v3', 'GW170608-v3', 'GW190408_181802-v1',\n",
    "          'GW190521-v3']\n",
    "\n",
    "rule stack:\n",
    "    input:\n",
    "        expand(\"events/{id}.png\", id=events)\n",
    "    output:\n",
    "        \"events/allevents.png\"\n",
    "    run:\n",
    "        from PIL import Image\n",
    "        import numpy as np\n",
    "        \n",
    "        # load all images to numpy arrays\n",
    "        images = [np.array(Image.open(imagefile)) for imagefile in input]\n",
    "        # stack the arrays vertically\n",
    "        stacked = np.vstack(images)\n",
    "        # convert stacked array to PIL image, then save \n",
    "        Image.fromarray(stacked).save(output[0])\n",
    "\n",
    "rule plot:\n",
    "    input:\n",
    "        \"events/{id}.json\"\n",
    "    output:\n",
    "        \"events/{id}.png\"\n",
    "    shell:\n",
    "        \"python plotsignal.py {wildcards.id} -C events\"\n",
    "        \n",
    "rule download:\n",
    "    output:\n",
    "        \"events/{id}.json\"\n",
    "    shell:\n",
    "        \"python hdfdownload.py {wildcards.id} -C events\""
   ]
  },
  {
   "cell_type": "code",
   "execution_count": null,
   "metadata": {},
   "outputs": [],
   "source": [
    "!snakemake -j 1 events/GW150914-v3.json"
   ]
  },
  {
   "cell_type": "code",
   "execution_count": null,
   "metadata": {},
   "outputs": [],
   "source": [
    "!snakemake -j 1 events/GW170817-v3.png"
   ]
  },
  {
   "cell_type": "code",
   "execution_count": null,
   "metadata": {},
   "outputs": [],
   "source": [
    "!snakemake -n"
   ]
  },
  {
   "cell_type": "code",
   "execution_count": null,
   "metadata": {},
   "outputs": [],
   "source": [
    "!snakemake -j 4"
   ]
  },
  {
   "cell_type": "code",
   "execution_count": null,
   "metadata": {},
   "outputs": [],
   "source": [
    "# on Windows !start events/allevents.png\n",
    "!open events/allevents.png"
   ]
  }
 ],
 "metadata": {
  "kernelspec": {
   "display_name": "Python 3",
   "language": "python",
   "name": "python3"
  },
  "language_info": {
   "codemirror_mode": {
    "name": "ipython",
    "version": 3
   },
   "file_extension": ".py",
   "mimetype": "text/x-python",
   "name": "python",
   "nbconvert_exporter": "python",
   "pygments_lexer": "ipython3",
   "version": "3.8.8"
  },
  "toc": {
   "base_numbering": 1,
   "nav_menu": {},
   "number_sections": true,
   "sideBar": true,
   "skip_h1_title": false,
   "title_cell": "Table of Contents",
   "title_sidebar": "Contents",
   "toc_cell": false,
   "toc_position": {},
   "toc_section_display": true,
   "toc_window_display": false
  }
 },
 "nbformat": 4,
 "nbformat_minor": 4
}
