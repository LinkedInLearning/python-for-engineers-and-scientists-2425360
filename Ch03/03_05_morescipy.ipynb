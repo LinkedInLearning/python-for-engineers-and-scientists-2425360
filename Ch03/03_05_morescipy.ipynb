{
 "cells": [
  {
   "cell_type": "markdown",
   "metadata": {},
   "source": [
    "# 03_05_morescipy.ipynb - Interpolation and optimization with SciPy"
   ]
  },
  {
   "cell_type": "code",
   "execution_count": null,
   "metadata": {},
   "outputs": [],
   "source": [
    "import numpy as np\n",
    "import matplotlib.pyplot as pp\n",
    "\n",
    "import numba\n",
    "\n",
    "import astropy.constants\n",
    "import astropy.time\n",
    "import astropy.coordinates\n",
    "\n",
    "import scipy.integrate\n",
    "import scipy.interpolate\n",
    "import scipy.optimize"
   ]
  },
  {
   "cell_type": "markdown",
   "metadata": {},
   "source": [
    "#### Solar System integrator from 03_04"
   ]
  },
  {
   "cell_type": "code",
   "execution_count": null,
   "metadata": {},
   "outputs": [],
   "source": [
    "bodies = ['sun','mercury','venus','earth','mars','jupiter','saturn','uranus','neptune']\n",
    "\n",
    "massdict = {'sun': 1.0,\n",
    "            'mercury': 1.6601209949637026e-07,\n",
    "            'venus': 2.4478382857373332e-06,\n",
    "            'earth': 3.0034896946063695e-06,\n",
    "            'mars': 3.227156037857755e-07,\n",
    "            'jupiter': 0.0009547918983127075,\n",
    "            'saturn': 0.00028588567008942334,\n",
    "            'uranus': 4.3662495719438076e-05,\n",
    "            'neptune': 5.151383713179197e-05}\n",
    "\n",
    "masses = np.array([massdict[body] for body in bodies])"
   ]
  },
  {
   "cell_type": "code",
   "execution_count": null,
   "metadata": {},
   "outputs": [],
   "source": [
    "G = astropy.constants.G.to('AU^3 / (Msun d^2)').value"
   ]
  },
  {
   "cell_type": "code",
   "execution_count": null,
   "metadata": {},
   "outputs": [],
   "source": [
    "@numba.jit\n",
    "def ydot(t, y):\n",
    "    # how many bodies? make sure the answer is an integer\n",
    "    n = int(y.shape[0] / 6)\n",
    "\n",
    "    # make an empty container for the derivatives\n",
    "    yd = np.zeros_like(y)\n",
    "    \n",
    "    # for each body\n",
    "    for i in range(n):\n",
    "        # set x_i' = v_i (array slice assignment)\n",
    "        yd[i*6:i*6+3] = y[i*6+3:i*6+6]\n",
    "        \n",
    "        # loop over all other bodies\n",
    "        for j in range(n):\n",
    "            if i == j:\n",
    "                continue\n",
    "\n",
    "            # add contribution of planet j to v_i'\n",
    "            rij = y[j*6:j*6+3] - y[i*6:i*6+3]\n",
    "            yd[i*6+3:i*6+6] += G * masses[j] * rij / np.dot(rij,rij)**1.5\n",
    "    \n",
    "    return yd"
   ]
  },
  {
   "cell_type": "code",
   "execution_count": null,
   "metadata": {},
   "outputs": [],
   "source": [
    "def get_posvel(body, t):\n",
    "    posvel = astropy.coordinates.get_body_barycentric_posvel(body, t)\n",
    "    \n",
    "    return np.hstack([posvel[0].xyz.value.T, posvel[1].xyz.value.T])"
   ]
  },
  {
   "cell_type": "code",
   "execution_count": null,
   "metadata": {},
   "outputs": [],
   "source": [
    "t0, t1 = astropy.time.Time('2021-07-04'), astropy.time.Time('2031-07-04')"
   ]
  },
  {
   "cell_type": "code",
   "execution_count": null,
   "metadata": {},
   "outputs": [],
   "source": [
    "y0 = np.array([get_posvel(body, t0) for body in bodies]).flatten()"
   ]
  },
  {
   "cell_type": "code",
   "execution_count": null,
   "metadata": {},
   "outputs": [],
   "source": [
    "orbits = scipy.integrate.solve_ivp(ydot, [t0.mjd, t1.mjd], y0, rtol=1e-9, atol=1e-9)"
   ]
  },
  {
   "cell_type": "markdown",
   "metadata": {},
   "source": [
    "#### Interpolating distances"
   ]
  },
  {
   "cell_type": "code",
   "execution_count": null,
   "metadata": {},
   "outputs": [],
   "source": [
    "orbits"
   ]
  },
  {
   "cell_type": "code",
   "execution_count": null,
   "metadata": {},
   "outputs": [],
   "source": [
    "pp.plot(np.diff(orbits.t), '.')"
   ]
  },
  {
   "cell_type": "code",
   "execution_count": null,
   "metadata": {},
   "outputs": [],
   "source": [
    "orbint = scipy.interpolate.interp1d(orbits.t, orbits.y, kind='quadratic')"
   ]
  },
  {
   "cell_type": "code",
   "execution_count": null,
   "metadata": {},
   "outputs": [],
   "source": [
    "orbint(t0.mjd + 365.25)"
   ]
  },
  {
   "cell_type": "code",
   "execution_count": null,
   "metadata": {},
   "outputs": [],
   "source": [
    "ts = astropy.time.Time('2025-01-01').mjd + np.arange(0, 5*365)\n",
    "oneyear = orbint(ts)[3*6:4*6,:]\n",
    "\n",
    "for i in range(3):\n",
    "    pp.plot(ts, orbint(ts)[3*6+i,:], '-')"
   ]
  },
  {
   "cell_type": "markdown",
   "metadata": {},
   "source": [
    "#### Finding minima"
   ]
  },
  {
   "cell_type": "code",
   "execution_count": null,
   "metadata": {},
   "outputs": [],
   "source": [
    "def get_dist(t, body1, body2, orbint):\n",
    "    # get position of all bodies at time t\n",
    "    y = orbint(t)\n",
    "    \n",
    "    # compute indices of each body\n",
    "    i, j = bodies.index(body1), bodies.index(body2)\n",
    "    \n",
    "    # compute Euclidian distance\n",
    "    return np.sqrt(np.sum((y[i*6:i*6+3] - y[j*6:j*6+3])**2, axis=0))"
   ]
  },
  {
   "cell_type": "code",
   "execution_count": null,
   "metadata": {},
   "outputs": [],
   "source": [
    "pp.plot(ts, get_dist(ts, 'jupiter', 'sun', orbint))"
   ]
  },
  {
   "cell_type": "code",
   "execution_count": null,
   "metadata": {},
   "outputs": [],
   "source": [
    "minimum = so.minimize(lambda t: -get_dist(t, 'jupiter', 'sun', orbint),\n",
    "                      x0=ts[900], bounds=[(ts[0],ts[-1])])"
   ]
  },
  {
   "cell_type": "code",
   "execution_count": null,
   "metadata": {},
   "outputs": [],
   "source": [
    "minimum"
   ]
  },
  {
   "cell_type": "code",
   "execution_count": null,
   "metadata": {},
   "outputs": [],
   "source": [
    "pp.plot(ts, get_dist(ts, 'jupiter', 'sun', orbint))\n",
    "pp.plot(minimum.x, -minimum.fun, 'ro')"
   ]
  },
  {
   "cell_type": "code",
   "execution_count": null,
   "metadata": {},
   "outputs": [],
   "source": [
    "pp.plot(ts, get_dist(ts, 'mars', 'venus', orbint))"
   ]
  },
  {
   "cell_type": "code",
   "execution_count": null,
   "metadata": {},
   "outputs": [],
   "source": [
    "minimum = so.minimize(get_dist,\n",
    "                      x0=ts[900], args=('mars','venus',orbint),\n",
    "                      bounds=[(ts[0],ts[-1])])"
   ]
  },
  {
   "cell_type": "code",
   "execution_count": null,
   "metadata": {},
   "outputs": [],
   "source": [
    "pp.plot(ts, get_dist(ts, 'mars', 'venus', orbint))\n",
    "pp.plot(minimum.x, minimum.fun, 'ro')"
   ]
  },
  {
   "cell_type": "code",
   "execution_count": null,
   "metadata": {},
   "outputs": [],
   "source": [
    "for x0 in [61000,61750,62500]:\n",
    "    minimum = so.minimize(get_dist, x0=x0, args=('mars','venus',orbint), bounds=[(ts[0],ts[-1])])\n",
    "    print(minimum.x, minimum.fun)"
   ]
  }
 ],
 "metadata": {
  "kernelspec": {
   "display_name": "Python 3",
   "language": "python",
   "name": "python3"
  },
  "language_info": {
   "codemirror_mode": {
    "name": "ipython",
    "version": 3
   },
   "file_extension": ".py",
   "mimetype": "text/x-python",
   "name": "python",
   "nbconvert_exporter": "python",
   "pygments_lexer": "ipython3",
   "version": "3.8.8"
  },
  "toc": {
   "base_numbering": 1,
   "nav_menu": {},
   "number_sections": true,
   "sideBar": true,
   "skip_h1_title": false,
   "title_cell": "Table of Contents",
   "title_sidebar": "Contents",
   "toc_cell": false,
   "toc_position": {},
   "toc_section_display": true,
   "toc_window_display": false
  }
 },
 "nbformat": 4,
 "nbformat_minor": 4
}
