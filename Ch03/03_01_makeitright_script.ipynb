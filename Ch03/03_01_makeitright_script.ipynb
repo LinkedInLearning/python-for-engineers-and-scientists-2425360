{
 "cells": [
  {
   "cell_type": "markdown",
   "id": "9f76e86b",
   "metadata": {},
   "source": [
    "# 03_01_makeitright"
   ]
  },
  {
   "cell_type": "markdown",
   "id": "74a81547",
   "metadata": {},
   "source": [
    "We've discussed how your Python code can be fast, but (especially in science and engineering) even the fastest code is worth nothing if the results are wrong!"
   ]
  },
  {
   "cell_type": "markdown",
   "id": "051b1e4d",
   "metadata": {},
   "source": [
    "How to write good, reliable code is of course a huge topic, and there are many aspects to it along different axes."
   ]
  },
  {
   "cell_type": "markdown",
   "id": "75c9374f",
   "metadata": {},
   "source": [
    "One axis is software engineering. Good code should be correct, maintainable, and readable\n",
    "\n",
    "* Correctness is helped by a good general understanding of the language; by version control; by unit testing; by debugging; when working in teams, by code reviews.\n",
    "* Maintainability has to do with organizing code in manageable parts that can be reused; refactoring when needed; programming defensively in case the scope of a function or module changes; keeping documentation\n",
    "* Readability is especially dear to my heart---literate programming teaches us that code is a text, and that the best code can express its contents and goals with little extra comments.\n",
    "\n",
    "You can learn about all these in courses on best practice and software engineering. But the important thing is that Python makes them much easier than other languages."
   ]
  },
  {
   "cell_type": "markdown",
   "id": "bcfb7798",
   "metadata": {},
   "source": [
    "A second axis is making sure that you code matches your mathematical intent. Basically, that the formulas you program are the right ones!\n",
    "\n",
    "This is helped by,\n",
    "\n",
    "* again, making your code readable, and using Jupyter notebooks to keep the formulas and their discussion close to the code;\n",
    "* by programming at a high level, perhaps with objects, so that the mathematics are not obscured by details of the code (for instance, using whole arrays instead of loops);\n",
    "* by generating Python code for mathematical expressions automatically (we'll see how to do this with sympy)."
   ]
  },
  {
   "cell_type": "markdown",
   "id": "6dbec2c7",
   "metadata": {},
   "source": [
    "Last --- and this is the axis that we will explore in this chapter --- you need to use reliable, well-tested numerical algorithms that cover edge cases. And the best way to do this is to use the software libraries that have won the acclaim and adoption of the Python scientific community.\n",
    "\n",
    "Since many people use them, they will report bugs, offer fixes, discuss features and issues in online forums---so you're not alone!\n",
    "\n",
    "In this chapter we will introduce sympy, for symbolic mathematics; astropy, for units, time, and more; and scipy, for almost any numerical algorithm. We will also talk about debugging in Jupyter notebooks."
   ]
  },
  {
   "cell_type": "markdown",
   "id": "eb3e4354",
   "metadata": {},
   "source": [
    "So let's get started."
   ]
  },
  {
   "cell_type": "markdown",
   "id": "179bc3dc",
   "metadata": {},
   "source": [
    "https://docs.quantifiedcode.com/python-anti-patterns/index.html"
   ]
  },
  {
   "cell_type": "code",
   "execution_count": null,
   "id": "ed5f22fb",
   "metadata": {},
   "outputs": [],
   "source": []
  }
 ],
 "metadata": {
  "kernelspec": {
   "display_name": "Python 3",
   "language": "python",
   "name": "python3"
  },
  "language_info": {
   "codemirror_mode": {
    "name": "ipython",
    "version": 3
   },
   "file_extension": ".py",
   "mimetype": "text/x-python",
   "name": "python",
   "nbconvert_exporter": "python",
   "pygments_lexer": "ipython3",
   "version": "3.8.8"
  }
 },
 "nbformat": 4,
 "nbformat_minor": 5
}
