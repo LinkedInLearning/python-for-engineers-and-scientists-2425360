{
 "cells": [
  {
   "cell_type": "markdown",
   "metadata": {},
   "source": [
    "# 03_04_ode.ipynb - Differential equations with SciPy"
   ]
  },
  {
   "cell_type": "code",
   "execution_count": 1,
   "metadata": {},
   "outputs": [],
   "source": [
    "import math"
   ]
  },
  {
   "cell_type": "code",
   "execution_count": 2,
   "metadata": {},
   "outputs": [],
   "source": [
    "import numpy as np\n",
    "import scipy\n",
    "import scipy.integrate as si\n",
    "import matplotlib.pyplot as pp"
   ]
  },
  {
   "cell_type": "code",
   "execution_count": 3,
   "metadata": {},
   "outputs": [],
   "source": [
    "import numba\n",
    "\n",
    "import astropy\n",
    "import astropy.time\n",
    "import astropy.coordinates\n",
    "import astropy.units\n",
    "import astropy.constants"
   ]
  },
  {
   "cell_type": "code",
   "execution_count": 4,
   "metadata": {},
   "outputs": [],
   "source": [
    "import numba"
   ]
  },
  {
   "cell_type": "markdown",
   "metadata": {},
   "source": [
    "$$y' = t^3 y^2 - \\frac{4}{t} y \\quad \\text{with} \\quad y(2) = -1$$.\n"
   ]
  },
  {
   "cell_type": "code",
   "execution_count": 5,
   "metadata": {},
   "outputs": [],
   "source": [
    "sol = si.solve_ivp(lambda t,y: t**3 * y**2 - (4 / t)*y, [2,3], [-1])"
   ]
  },
  {
   "cell_type": "code",
   "execution_count": 6,
   "metadata": {},
   "outputs": [
    {
     "data": {
      "text/plain": [
       "  message: 'The solver successfully reached the end of the integration interval.'\n",
       "     nfev: 50\n",
       "     njev: 0\n",
       "      nlu: 0\n",
       "      sol: None\n",
       "   status: 0\n",
       "  success: True\n",
       "        t: array([2.        , 2.03587623, 2.10293686, 2.18979482, 2.30620028,\n",
       "       2.45800003, 2.65228282, 2.89637406, 3.        ])\n",
       " t_events: None\n",
       "        y: array([[-1.        , -0.7251445 , -0.45438373, -0.28450122, -0.17292071,\n",
       "        -0.1022655 , -0.05882348, -0.03296789, -0.02648348]])\n",
       " y_events: None"
      ]
     },
     "execution_count": 6,
     "metadata": {},
     "output_type": "execute_result"
    }
   ],
   "source": [
    "sol"
   ]
  },
  {
   "cell_type": "code",
   "execution_count": 7,
   "metadata": {},
   "outputs": [
    {
     "data": {
      "text/plain": [
       "[<matplotlib.lines.Line2D at 0x7fa802a7b3a0>]"
      ]
     },
     "execution_count": 7,
     "metadata": {},
     "output_type": "execute_result"
    },
    {
     "data": {
      "image/png": "[encoded data removed]",
      "text/plain": [
       "<Figure size 432x288 with 1 Axes>"
      ]
     },
     "metadata": {
      "needs_background": "light"
     },
     "output_type": "display_data"
    }
   ],
   "source": [
    "pp.plot(sol.t, sol.y[0,:], '.--')\n",
    "\n",
    "x = np.linspace(2,3)\n",
    "pp.plot(x, 1/(x**4*(-np.log(x) - 1/16 + math.log(2))))"
   ]
  },
  {
   "cell_type": "code",
   "execution_count": 8,
   "metadata": {},
   "outputs": [],
   "source": [
    "def ydot(t, y):\n",
    "    # how many bodies? make sure the answer is an integer\n",
    "    n = int(y.shape[0] / 6)\n",
    "\n",
    "    # make an empty container for the derivatives\n",
    "    yd = np.zeros_like(y)\n",
    "    \n",
    "    # for each body\n",
    "    for i in range(n):\n",
    "        # set x_i' = v_i (array slice assignment)\n",
    "        yd[i*6:i*6+3] = y[i*6+3:i*6+6]\n",
    "        \n",
    "        # loop over all other bodies\n",
    "        for j in range(n):\n",
    "            if i == j:\n",
    "                continue\n",
    "\n",
    "            # add contribution of planet j to v_i'\n",
    "            rij = y[j*6:j*6+3] - y[i*6:i*6+3]\n",
    "            yd[i*6+3:i*6+6] += G * masses[j] * rij / np.dot(rij,rij)**1.5\n",
    "    \n",
    "    return yd"
   ]
  },
  {
   "cell_type": "code",
   "execution_count": 9,
   "metadata": {},
   "outputs": [],
   "source": [
    "# IAU 2012 values from from http://maia.usno.navy.mil/NSFA/NSFA_cbe.html\n",
    "\n",
    "bodies = ['sun','mercury','venus','earth','mars','jupiter','saturn','uranus','neptune']\n",
    "\n",
    "# dictionary of masses\n",
    "massdict = {'sun': 1.0,\n",
    "            'mercury': 1.6601209949637026e-07,\n",
    "            'venus': 2.4478382857373332e-06,\n",
    "            'earth': 3.0034896946063695e-06,\n",
    "            'mars': 3.227156037857755e-07,\n",
    "            'jupiter': 0.0009547918983127075,\n",
    "            'saturn': 0.00028588567008942334,\n",
    "            'uranus': 4.3662495719438076e-05,\n",
    "            'neptune': 5.151383713179197e-05}\n",
    "\n",
    "# array of masses\n",
    "masses = np.array([massdict[body] for body in bodies])"
   ]
  },
  {
   "cell_type": "code",
   "execution_count": 10,
   "metadata": {},
   "outputs": [
    {
     "data": {
      "text/latex": [
       "$0.00029591221 \\; \\mathrm{\\frac{AU^{3}}{M_{\\odot}\\,d^{2}}}$"
      ],
      "text/plain": [
       "<Quantity 0.00029591 AU3 / (d2 solMass)>"
      ]
     },
     "execution_count": 10,
     "metadata": {},
     "output_type": "execute_result"
    }
   ],
   "source": [
    "astropy.constants.G.to('AU^3 / (Msun d^2)')"
   ]
  },
  {
   "cell_type": "code",
   "execution_count": 11,
   "metadata": {},
   "outputs": [],
   "source": [
    "G = astropy.constants.G.to('AU^3 / (Msun d^2)').value"
   ]
  },
  {
   "cell_type": "code",
   "execution_count": 12,
   "metadata": {},
   "outputs": [],
   "source": [
    "t0 = astropy.time.Time('2021-07-04')"
   ]
  },
  {
   "cell_type": "code",
   "execution_count": 13,
   "metadata": {},
   "outputs": [],
   "source": [
    "def get_posvel(body, t):\n",
    "    posvel = astropy.coordinates.get_body_barycentric_posvel(body, t)\n",
    "    \n",
    "    return np.hstack([posvel[0].xyz.value.T, posvel[1].xyz.value.T])"
   ]
  },
  {
   "cell_type": "code",
   "execution_count": 14,
   "metadata": {},
   "outputs": [
    {
     "data": {
      "text/plain": [
       "array([ 0.20298746, -0.90823681, -0.39356093,  0.01654894,  0.00320201,\n",
       "        0.00138766])"
      ]
     },
     "execution_count": 14,
     "metadata": {},
     "output_type": "execute_result"
    }
   ],
   "source": [
    "get_posvel('earth', t0)"
   ]
  },
  {
   "cell_type": "code",
   "execution_count": 15,
   "metadata": {},
   "outputs": [
    {
     "data": {
      "text/plain": [
       "array([[-7.77940195e-03,  4.34017341e-03,  2.03704144e-03,\n",
       "        -5.37208312e-06, -6.78869467e-06, -2.74086332e-06],\n",
       "       [ 3.36477212e-01, -1.44331518e-01, -1.13065987e-01,\n",
       "         7.64683753e-03,  2.34128294e-02,  1.17147635e-02],\n",
       "       [-7.05529604e-01,  1.42792324e-01,  1.08481574e-01,\n",
       "        -4.87851687e-03, -1.81284422e-02, -7.84836656e-03],\n",
       "       [ 2.02987462e-01, -9.08236814e-01, -3.93560929e-01,\n",
       "         1.65489414e-02,  3.20200963e-03,  1.38765895e-03],\n",
       "       [-1.48108634e+00,  6.94567945e-01,  3.58383718e-01,\n",
       "        -5.99579632e-03, -1.02388807e-02, -4.53432074e-03],\n",
       "       [ 4.00222927e+00, -2.76183300e+00, -1.28120815e+00,\n",
       "         4.47340372e-03,  5.88774592e-03,  2.41491048e-03],\n",
       "       [ 6.25437708e+00, -7.04987571e+00, -3.18137407e+00,\n",
       "         4.01771778e-03,  3.28490808e-03,  1.18343119e-03],\n",
       "       [ 1.48700780e+01,  1.19723452e+01,  5.03304942e+00,\n",
       "        -2.61268197e-03,  2.52830320e-03,  1.14446928e-03],\n",
       "       [ 2.95461566e+01, -4.03578501e+00, -2.38731664e+00,\n",
       "         4.59208334e-04,  2.88331279e-03,  1.16863815e-03]])"
      ]
     },
     "execution_count": 15,
     "metadata": {},
     "output_type": "execute_result"
    }
   ],
   "source": [
    "np.array([get_posvel(body, t0) for body in bodies])"
   ]
  },
  {
   "cell_type": "code",
   "execution_count": 16,
   "metadata": {},
   "outputs": [],
   "source": [
    "y0 = np.array([get_posvel(body, t0) for body in bodies]).flatten()"
   ]
  },
  {
   "cell_type": "code",
   "execution_count": 17,
   "metadata": {},
   "outputs": [
    {
     "data": {
      "text/plain": [
       "(54,)"
      ]
     },
     "execution_count": 17,
     "metadata": {},
     "output_type": "execute_result"
    }
   ],
   "source": [
    "y0.shape"
   ]
  },
  {
   "cell_type": "code",
   "execution_count": 18,
   "metadata": {},
   "outputs": [
    {
     "name": "stderr",
     "output_type": "stream",
     "text": [
      "/Users/mvallisneri/opt/anaconda3/lib/python3.8/site-packages/erfa/core.py:154: ErfaWarning: ERFA function \"dtf2d\" yielded 1 of \"dubious year (Note 6)\"\n",
      "  warnings.warn('ERFA function \"{}\" yielded {}'.format(func_name, wmsg),\n"
     ]
    }
   ],
   "source": [
    "t1 = astropy.time.Time('2031-07-04')"
   ]
  },
  {
   "cell_type": "code",
   "execution_count": 19,
   "metadata": {},
   "outputs": [
    {
     "data": {
      "text/plain": [
       "(59399.0, 63051.0)"
      ]
     },
     "execution_count": 19,
     "metadata": {},
     "output_type": "execute_result"
    }
   ],
   "source": [
    "t0.mjd, t1.mjd"
   ]
  },
  {
   "cell_type": "code",
   "execution_count": 20,
   "metadata": {},
   "outputs": [],
   "source": [
    "orbits = scipy.integrate.solve_ivp(numba.jit(ydot), [t0.mjd, t1.mjd], y0, rtol=1e-9, atol=1e-9)"
   ]
  },
  {
   "cell_type": "code",
   "execution_count": 21,
   "metadata": {},
   "outputs": [
    {
     "data": {
      "text/plain": [
       "  message: 'The solver successfully reached the end of the integration interval.'\n",
       "     nfev: 14096\n",
       "     njev: 0\n",
       "      nlu: 0\n",
       "      sol: None\n",
       "   status: 0\n",
       "  success: True\n",
       "        t: array([59399.        , 59399.01853548, 59399.20389027, ...,\n",
       "       63049.07117496, 63050.73704232, 63051.        ])\n",
       " t_events: None\n",
       "        y: array([[-0.0077794 , -0.0077795 , -0.0077805 , ..., -0.00193163,\n",
       "        -0.00194057, -0.00194198],\n",
       "       [ 0.00434017,  0.00434005,  0.00433879, ...,  0.00122943,\n",
       "         0.00122882,  0.00122872],\n",
       "       [ 0.00203704,  0.00203699,  0.00203648, ...,  0.00062289,\n",
       "         0.00062282,  0.0006228 ],\n",
       "       ...,\n",
       "       [ 0.00045921,  0.0004592 ,  0.00045914, ..., -0.00074487,\n",
       "        -0.00074541, -0.00074549],\n",
       "       [ 0.00288331,  0.00288331,  0.00288332, ...,  0.00283177,\n",
       "         0.00283165,  0.00283163],\n",
       "       [ 0.00116864,  0.00116864,  0.00116864, ...,  0.00117752,\n",
       "         0.00117748,  0.00117748]])\n",
       " y_events: None"
      ]
     },
     "execution_count": 21,
     "metadata": {},
     "output_type": "execute_result"
    }
   ],
   "source": [
    "orbits"
   ]
  },
  {
   "cell_type": "code",
   "execution_count": 22,
   "metadata": {},
   "outputs": [
    {
     "data": {
      "image/png": "[encoded data removed]",
      "text/plain": [
       "<Figure size 432x288 with 1 Axes>"
      ]
     },
     "metadata": {
      "needs_background": "light"
     },
     "output_type": "display_data"
    }
   ],
   "source": [
    "for i in range(9):\n",
    "    pp.plot(orbits.y[i*6,:], orbits.y[i*6+1,:], label=bodies[i])\n",
    "\n",
    "pp.legend()\n",
    "pp.axis('equal');"
   ]
  },
  {
   "cell_type": "code",
   "execution_count": null,
   "metadata": {},
   "outputs": [],
   "source": []
  }
 ],
 "metadata": {
  "kernelspec": {
   "display_name": "Python 3",
   "language": "python",
   "name": "python3"
  },
  "language_info": {
   "codemirror_mode": {
    "name": "ipython",
    "version": 3
   },
   "file_extension": ".py",
   "mimetype": "text/x-python",
   "name": "python",
   "nbconvert_exporter": "python",
   "pygments_lexer": "ipython3",
   "version": "3.8.8"
  },
  "toc": {
   "base_numbering": 1,
   "nav_menu": {},
   "number_sections": true,
   "sideBar": true,
   "skip_h1_title": false,
   "title_cell": "Table of Contents",
   "title_sidebar": "Contents",
   "toc_cell": false,
   "toc_position": {},
   "toc_section_display": true,
   "toc_window_display": false
  }
 },
 "nbformat": 4,
 "nbformat_minor": 4
}
