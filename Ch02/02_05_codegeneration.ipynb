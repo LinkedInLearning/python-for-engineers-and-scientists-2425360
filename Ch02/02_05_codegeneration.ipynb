{
 "cells": [
  {
   "cell_type": "markdown",
   "metadata": {},
   "source": [
    "# 02_05_codegeneration.ipynb - Code generation with Numba and Cython"
   ]
  },
  {
   "cell_type": "markdown",
   "metadata": {},
   "source": [
    "**Problem: perform the integral**\n",
    "\n",
    "$$\\int_0^\\pi \\left[ \\sum_{k=1}^{\\infty} \\frac{\\cos(k \\sin \\theta)}{k^2} \\right] d\\theta$$"
   ]
  },
  {
   "cell_type": "code",
   "execution_count": null,
   "metadata": {},
   "outputs": [],
   "source": [
    "import math\n",
    "import numpy as np\n",
    "import scipy\n",
    "import scipy.integrate as si\n",
    "import numba"
   ]
  },
  {
   "cell_type": "code",
   "execution_count": null,
   "metadata": {},
   "outputs": [],
   "source": [
    "def integrand(theta):\n",
    "    return sum(math.cos(k * math.sin(theta))/k**2 for k in range(1, 200))"
   ]
  },
  {
   "cell_type": "code",
   "execution_count": null,
   "metadata": {},
   "outputs": [],
   "source": [
    "%time si.quad(integrand, 0, math.pi)"
   ]
  },
  {
   "cell_type": "code",
   "execution_count": null,
   "metadata": {},
   "outputs": [],
   "source": [
    "@numba.jit\n",
    "def integrand_nj(theta):\n",
    "    return sum(math.cos(k * math.sin(theta))/k**2 for k in range(1, 200))"
   ]
  },
  {
   "cell_type": "code",
   "execution_count": null,
   "metadata": {},
   "outputs": [],
   "source": [
    "integrand_nj(1)"
   ]
  },
  {
   "cell_type": "code",
   "execution_count": null,
   "metadata": {},
   "outputs": [],
   "source": [
    "@numba.jit\n",
    "def integrand_nj(theta):\n",
    "    mysum = 0\n",
    "    \n",
    "    for k in range(1, 200):\n",
    "        mysum = mysum + math.cos(k * math.sin(theta)) / k**2\n",
    "    \n",
    "    return mysum"
   ]
  },
  {
   "cell_type": "code",
   "execution_count": null,
   "metadata": {},
   "outputs": [],
   "source": [
    "integrand_nj(1)"
   ]
  },
  {
   "cell_type": "code",
   "execution_count": null,
   "metadata": {},
   "outputs": [],
   "source": [
    "si.quad(integrand_nj, 0, math.pi)"
   ]
  },
  {
   "cell_type": "code",
   "execution_count": null,
   "metadata": {},
   "outputs": [],
   "source": [
    "%timeit si.quad(integrand_nj, 0, math.pi)"
   ]
  },
  {
   "cell_type": "code",
   "execution_count": null,
   "metadata": {},
   "outputs": [],
   "source": [
    "%load_ext cython"
   ]
  },
  {
   "cell_type": "code",
   "execution_count": null,
   "metadata": {},
   "outputs": [],
   "source": [
    "%%cython\n",
    "\n",
    "# import trigonometric functions from the standard C library\n",
    "from libc.math cimport sin, cos\n",
    "\n",
    "def integrand_cc(double theta):\n",
    "    cdef double mysum = 0.0\n",
    "    cdef int k\n",
    "    \n",
    "    for k in range(1, 200):\n",
    "        mysum = mysum + cos(k * sin(theta)) / k**2\n",
    "        \n",
    "    return mysum"
   ]
  },
  {
   "cell_type": "code",
   "execution_count": null,
   "metadata": {},
   "outputs": [],
   "source": [
    "integrand_cc(1)"
   ]
  },
  {
   "cell_type": "code",
   "execution_count": null,
   "metadata": {},
   "outputs": [],
   "source": [
    "si.quad(integrand_cc, 0, math.pi)"
   ]
  },
  {
   "cell_type": "code",
   "execution_count": null,
   "metadata": {},
   "outputs": [],
   "source": [
    "%timeit si.quad(integrand_cc, 0, math.pi)"
   ]
  },
  {
   "cell_type": "code",
   "execution_count": null,
   "metadata": {},
   "outputs": [],
   "source": [
    "def jacobi(array):    \n",
    "    updated = array.copy()\n",
    "    \n",
    "    for i in range(1, array.shape[0]-1):\n",
    "        for j in range(1, array.shape[1]-1):\n",
    "            updated[i,j] = (array[i-1,j] + array[i+1,j] + array[i,j-1] + array[i,j+1]) / 4\n",
    "            \n",
    "    return updated"
   ]
  },
  {
   "cell_type": "code",
   "execution_count": null,
   "metadata": {},
   "outputs": [],
   "source": [
    "phi = np.random.randn(64,64)"
   ]
  },
  {
   "cell_type": "code",
   "execution_count": null,
   "metadata": {},
   "outputs": [],
   "source": [
    "%timeit jacobi(phi)"
   ]
  },
  {
   "cell_type": "code",
   "execution_count": null,
   "metadata": {},
   "outputs": [],
   "source": [
    "@numba.jit\n",
    "def jacobi_numba(array):    \n",
    "    updated = array.copy()\n",
    "    \n",
    "    for i in range(1, array.shape[0]-1):\n",
    "        for j in range(1, array.shape[1]-1):\n",
    "            updated[i,j] = (array[i-1,j] + array[i+1,j] + array[i,j-1] + array[i,j+1]) / 4\n",
    "            \n",
    "    return updated"
   ]
  },
  {
   "cell_type": "code",
   "execution_count": null,
   "metadata": {},
   "outputs": [],
   "source": [
    "%timeit jacobi_numba(phi)"
   ]
  },
  {
   "cell_type": "markdown",
   "metadata": {},
   "source": [
    "#### Code generation for `scipy` applications—the case of multiple parameters"
   ]
  },
  {
   "cell_type": "markdown",
   "metadata": {},
   "source": [
    "We'll perform the parametrized definite integral"
   ]
  },
  {
   "cell_type": "markdown",
   "metadata": {},
   "source": [
    "$$I(z) = \\int_0^\\pi \\cos(z \\sin \\theta) d\\theta$$"
   ]
  },
  {
   "cell_type": "markdown",
   "metadata": {},
   "source": [
    "With Numba, we need to use a more specialized decorator than the simple `numba.jit`, and we need to take all parameters as a C array of double-precision floats. The C function takes a first argument of the number of parameters, and a second argument of a pointer to the array."
   ]
  },
  {
   "cell_type": "code",
   "execution_count": null,
   "metadata": {},
   "outputs": [],
   "source": [
    "# numba will generate a function with C-like calling interface (\"cfunc\")\n",
    "# that takes a 32-bit integer and a pointer to an array of 64-bit floats,\n",
    "# and returns a single float\n",
    "\n",
    "@numba.cfunc(\"float64(int32,CPointer(float64))\")\n",
    "def integrand_nc(n, x):\n",
    "    # unpack the array, Python-style\n",
    "    theta, z = x[0], x[1]\n",
    "    \n",
    "    return math.cos(z * math.sin(theta))"
   ]
  },
  {
   "cell_type": "markdown",
   "metadata": {},
   "source": [
    "`scipy.integrate.quad` also needs some help to understand what arguments it's being given. That help is provided by `scipy.LowLevelCallable`, which can take several descriptions of C-like functions. Note that we provide the value of additional parameters (here $z$) as a tuple with the keyword argument `args`."
   ]
  },
  {
   "cell_type": "code",
   "execution_count": null,
   "metadata": {},
   "outputs": [],
   "source": [
    "si.quad(scipy.LowLevelCallable(integrand_nc.ctypes), 0, math.pi, args=(5,))"
   ]
  },
  {
   "cell_type": "markdown",
   "metadata": {},
   "source": [
    "With Cython, we cannot work entirely within the notebook as we did before, but we need to write a Cython header and  a Cython source file that will be compiled to a C extension that we can import and use. Note the use of the iPython magic `%%file` to write the content of the cell to a file."
   ]
  },
  {
   "cell_type": "code",
   "execution_count": null,
   "metadata": {},
   "outputs": [],
   "source": [
    "%%file integrand.pxd\n",
    "\n",
    "# a quasi-C declaration of our Cython function; note \"cdef\"\n",
    "cdef double integrand_cc(int n, double[] x)"
   ]
  },
  {
   "cell_type": "code",
   "execution_count": null,
   "metadata": {},
   "outputs": [],
   "source": [
    "%%file integrand.pyx\n",
    "\n",
    "# \"cimport\" gives us access to functions in the C standard library\n",
    "from libc.math cimport sin, cos\n",
    "\n",
    "# \"cdef\" creates a function callable from C only\n",
    "# (while def in the %%cython block above, creates a Python callable)\n",
    "cdef double integrand_cc(int n, double x[]):\n",
    "    return cos(x[1] * sin(x[0]))"
   ]
  },
  {
   "cell_type": "markdown",
   "metadata": {},
   "source": [
    "We can take advantage of the `pyximport` module, which takes care of compiling the extension transparently. Note that C extensions can only be imported once, so modifying the code, recompiling it with the same name, and reimporting it would have no effect. I have wasted lots of debugging code this way!"
   ]
  },
  {
   "cell_type": "code",
   "execution_count": null,
   "metadata": {},
   "outputs": [],
   "source": [
    "import pyximport\n",
    "pyximport.install(language_level=3)  # Python 3 of course"
   ]
  },
  {
   "cell_type": "code",
   "execution_count": null,
   "metadata": {},
   "outputs": [],
   "source": [
    "import integrand"
   ]
  },
  {
   "cell_type": "markdown",
   "metadata": {},
   "source": [
    "And again we need some work to dig out and wrap the C-like function we're calling."
   ]
  },
  {
   "cell_type": "code",
   "execution_count": null,
   "metadata": {},
   "outputs": [],
   "source": [
    "si.quad(scipy.LowLevelCallable(integrand.__pyx_capi__['integrand_cc']), 0, math.pi, args=(5,))"
   ]
  },
  {
   "cell_type": "markdown",
   "metadata": {},
   "source": [
    "That's it!"
   ]
  }
 ],
 "metadata": {
  "kernelspec": {
   "display_name": "Python 3",
   "language": "python",
   "name": "python3"
  },
  "language_info": {
   "codemirror_mode": {
    "name": "ipython",
    "version": 3
   },
   "file_extension": ".py",
   "mimetype": "text/x-python",
   "name": "python",
   "nbconvert_exporter": "python",
   "pygments_lexer": "ipython3",
   "version": "3.8.8"
  },
  "toc": {
   "base_numbering": 1,
   "nav_menu": {},
   "number_sections": true,
   "sideBar": true,
   "skip_h1_title": false,
   "title_cell": "Table of Contents",
   "title_sidebar": "Contents",
   "toc_cell": false,
   "toc_position": {},
   "toc_section_display": true,
   "toc_window_display": false
  }
 },
 "nbformat": 4,
 "nbformat_minor": 4
}
