{
 "cells": [
  {
   "cell_type": "markdown",
   "metadata": {},
   "source": [
    "# 02_06_legacywrap.ipynb - Wrapping legacy code with Cython, CFFI, and F2PY"
   ]
  },
  {
   "cell_type": "code",
   "execution_count": null,
   "metadata": {},
   "outputs": [],
   "source": [
    "import math\n",
    "import numpy as np\n",
    "import matplotlib.pyplot as pp"
   ]
  },
  {
   "cell_type": "markdown",
   "metadata": {},
   "source": [
    "#### Code from 02_03_numpycompute.ipynb"
   ]
  },
  {
   "cell_type": "code",
   "execution_count": null,
   "metadata": {},
   "outputs": [],
   "source": [
    "def initphi(n=64):\n",
    "    dx = 1/n\n",
    "    xs = np.linspace(0.5*dx, 1-0.5*dx, n)\n",
    "    \n",
    "    phi = np.zeros((n,n), 'd')\n",
    "    \n",
    "    phi[:,-1] = np.sin(2 * math.pi * xs)\n",
    "    phi[-1,:] = -np.sin(2 * math.pi * xs)\n",
    "    \n",
    "    return phi"
   ]
  },
  {
   "cell_type": "code",
   "execution_count": null,
   "metadata": {},
   "outputs": [],
   "source": [
    "def showphi(array, colorbar=True):\n",
    "    pp.imshow(array.T, origin='lower', extent=(0,1,0,1),\n",
    "              vmin=-1, vmax=1, cmap='coolwarm')\n",
    "    \n",
    "    if colorbar:\n",
    "        pp.colorbar()"
   ]
  },
  {
   "cell_type": "markdown",
   "metadata": {},
   "source": [
    "#### Wrapping C with Cython"
   ]
  },
  {
   "cell_type": "code",
   "execution_count": null,
   "metadata": {},
   "outputs": [],
   "source": [
    "%%file gauss_iterate.c\n",
    "\n",
    "#define A(i,j) (array[(i)*nx + (j)])\n",
    "\n",
    "void gauss_iterate(int nx, int ny, double *array, int iterations) {\n",
    "    for(int k=0; k<iterations; k++) {\n",
    "        for(int i=1; i<nx-1; i++) {\n",
    "            for(int j=1; j<ny-1; j++) {\n",
    "                A(i,j) = (A(i-1,j) + A(i+1,j) + A(i,j-1) + A(i,j+1)) / 4;\n",
    "            }\n",
    "        }\n",
    "    }\n",
    "}"
   ]
  },
  {
   "cell_type": "code",
   "execution_count": null,
   "metadata": {},
   "outputs": [],
   "source": [
    "%%file gauss_iterate.h\n",
    "\n",
    "void gauss_iterate(int nx, int ny, double *array, int iterations);"
   ]
  },
  {
   "cell_type": "code",
   "execution_count": null,
   "metadata": {},
   "outputs": [],
   "source": [
    "%%file cgauss.pyx\n",
    "\n",
    "# cython: language_level=3\n",
    "\n",
    "cdef extern from \"gauss_iterate.h\":\n",
    "    cdef void gauss_iterate(int nx, int ny, double array[], int iterations)\n",
    "\n",
    "# it would be even safer to declare array with \"double [:,::1]\",\n",
    "# which would accept only contiguous arrays\n",
    "\n",
    "def gauss(double [:,:] array, int iterations):\n",
    "    # array is a Cython \"memoryview\", but it supports numpy\n",
    "    # operations such as obtaining its shape\n",
    "    cdef int nx = array.shape[0], ny = array.shape[1]\n",
    "    \n",
    "    # call the C function, obtaining the address of the first array item\n",
    "    gauss_iterate(nx, ny, &array[0,0], iterations)"
   ]
  },
  {
   "cell_type": "code",
   "execution_count": null,
   "metadata": {},
   "outputs": [],
   "source": [
    "%%file setup.py\n",
    "\n",
    "from setuptools import setup, Extension\n",
    "from Cython.Build import cythonize\n",
    "\n",
    "ext_modules = [\n",
    "    Extension(\"cgauss\",\n",
    "              sources=[\"cgauss.pyx\", \"gauss_iterate.c\"],\n",
    "              includes=[\"gauss_iterate.h\"]\n",
    "              )\n",
    "]\n",
    "\n",
    "setup(name=\"gauss\",\n",
    "      ext_modules=cythonize(ext_modules))"
   ]
  },
  {
   "cell_type": "code",
   "execution_count": null,
   "metadata": {},
   "outputs": [],
   "source": [
    "!python setup.py build_ext --inplace"
   ]
  },
  {
   "cell_type": "code",
   "execution_count": null,
   "metadata": {},
   "outputs": [],
   "source": [
    "import cgauss"
   ]
  },
  {
   "cell_type": "code",
   "execution_count": null,
   "metadata": {},
   "outputs": [],
   "source": [
    "cgauss.gauss"
   ]
  },
  {
   "cell_type": "code",
   "execution_count": null,
   "metadata": {},
   "outputs": [],
   "source": [
    "phi = initphi(128)"
   ]
  },
  {
   "cell_type": "code",
   "execution_count": null,
   "metadata": {},
   "outputs": [],
   "source": [
    "cgauss.gauss(phi, 2000)"
   ]
  },
  {
   "cell_type": "code",
   "execution_count": null,
   "metadata": {},
   "outputs": [],
   "source": [
    "showphi(phi)"
   ]
  },
  {
   "cell_type": "markdown",
   "metadata": {},
   "source": [
    "#### Wrapping C with CFFI"
   ]
  },
  {
   "cell_type": "code",
   "execution_count": null,
   "metadata": {},
   "outputs": [],
   "source": [
    "# on OS X or Linux (including WSL)\n",
    "!gcc -I. gauss_iterate.c -shared -o gauss_iterate.so"
   ]
  },
  {
   "cell_type": "code",
   "execution_count": null,
   "metadata": {},
   "outputs": [],
   "source": [
    "# on Windows with Visual Studio 2019\n",
    "# open the x64 Native Tools Command Prompt\n",
    "# navigate to Ch02 folder\n",
    "\n",
    "# cl /LD gauss_iterate.c"
   ]
  },
  {
   "cell_type": "code",
   "execution_count": null,
   "metadata": {},
   "outputs": [],
   "source": [
    "from cffi import FFI"
   ]
  },
  {
   "cell_type": "code",
   "execution_count": null,
   "metadata": {},
   "outputs": [],
   "source": [
    "ffi = FFI()"
   ]
  },
  {
   "cell_type": "code",
   "execution_count": null,
   "metadata": {},
   "outputs": [],
   "source": [
    "ffi.cdef(\"void gauss_iterate(int nx, int ny, double *array, int iterations);\")"
   ]
  },
  {
   "cell_type": "code",
   "execution_count": null,
   "metadata": {},
   "outputs": [],
   "source": [
    "cfgauss = ffi.dlopen('./gauss_iterate.so')\n",
    "\n",
    "# on Windows with Visual Studio 2019\n",
    "# cfgauss = ffi.dlopen('gauss_iterate.dll')"
   ]
  },
  {
   "cell_type": "code",
   "execution_count": null,
   "metadata": {},
   "outputs": [],
   "source": [
    "cfgauss"
   ]
  },
  {
   "cell_type": "code",
   "execution_count": null,
   "metadata": {},
   "outputs": [],
   "source": [
    "phi = initphi(128)"
   ]
  },
  {
   "cell_type": "code",
   "execution_count": null,
   "metadata": {},
   "outputs": [],
   "source": [
    "cfgauss.gauss_iterate(128, 128, ffi.cast(\"double *\", phi.ctypes.data), 2000)"
   ]
  },
  {
   "cell_type": "code",
   "execution_count": null,
   "metadata": {},
   "outputs": [],
   "source": [
    "showphi(phi)"
   ]
  },
  {
   "cell_type": "markdown",
   "metadata": {},
   "source": [
    "#### Wrapping Fortran with f2py"
   ]
  },
  {
   "cell_type": "code",
   "execution_count": null,
   "metadata": {},
   "outputs": [],
   "source": [
    "%%file gauss_iterate.f90\n",
    "\n",
    "subroutine gauss(array,nx,ny,iterations)\n",
    "    implicit none\n",
    "\n",
    "    real*8, dimension(0:nx-1,0:ny-1), intent(inout) :: array\n",
    "    integer, intent(in)                             :: nx,ny,iterations\n",
    "\n",
    "    integer k,i,j\n",
    "            \n",
    "    do k=1,iterations\n",
    "        do i=1,nx-2\n",
    "            do j=1,ny-2\n",
    "                array(i,j) = (array(i-1,j) + array(i+1,j) + array(i,j-1) + array(i,j+1)) / 4\n",
    "            end do\n",
    "        end do\n",
    "    end do\n",
    "\n",
    "    return\n",
    "end subroutine gauss"
   ]
  },
  {
   "cell_type": "code",
   "execution_count": null,
   "metadata": {},
   "outputs": [],
   "source": [
    "!f2py3 -m fgauss -c gauss_iterate.f90"
   ]
  },
  {
   "cell_type": "code",
   "execution_count": null,
   "metadata": {},
   "outputs": [],
   "source": [
    "import fgauss"
   ]
  },
  {
   "cell_type": "code",
   "execution_count": null,
   "metadata": {},
   "outputs": [],
   "source": [
    "?fgauss.gauss"
   ]
  },
  {
   "cell_type": "code",
   "execution_count": null,
   "metadata": {},
   "outputs": [],
   "source": [
    "fphi = np.asfortranarray(initphi(128))"
   ]
  },
  {
   "cell_type": "code",
   "execution_count": null,
   "metadata": {},
   "outputs": [],
   "source": [
    "fgauss.gauss(fphi, 2000)"
   ]
  },
  {
   "cell_type": "code",
   "execution_count": null,
   "metadata": {},
   "outputs": [],
   "source": [
    "showphi(fphi)"
   ]
  },
  {
   "cell_type": "markdown",
   "metadata": {},
   "source": [
    "#### Wrapping Fortran with fortran-magic"
   ]
  },
  {
   "cell_type": "code",
   "execution_count": null,
   "metadata": {},
   "outputs": [],
   "source": [
    "# !pip install fortran-magic\n",
    "%load_ext fortranmagic"
   ]
  },
  {
   "cell_type": "code",
   "execution_count": null,
   "metadata": {},
   "outputs": [],
   "source": [
    "%%fortran\n",
    "\n",
    "subroutine fgauss(array,nx,ny,iterations)\n",
    "    implicit none\n",
    "\n",
    "    real*8, dimension(0:nx-1,0:ny-1), intent(inout) :: array\n",
    "    integer, intent(in)                             :: nx,ny,iterations\n",
    "\n",
    "    integer k,i,j\n",
    "            \n",
    "    do k=1,iterations\n",
    "        do i=1,nx-2\n",
    "            do j=1,ny-2\n",
    "                array(i,j) = (array(i-1,j) + array(i+1,j) + array(i,j-1) + array(i,j+1)) / 4\n",
    "            end do\n",
    "        end do\n",
    "    end do\n",
    "\n",
    "    return\n",
    "end subroutine fgauss"
   ]
  },
  {
   "cell_type": "code",
   "execution_count": null,
   "metadata": {},
   "outputs": [],
   "source": [
    "fgauss"
   ]
  },
  {
   "cell_type": "code",
   "execution_count": null,
   "metadata": {},
   "outputs": [],
   "source": [
    "?fgauss"
   ]
  },
  {
   "cell_type": "code",
   "execution_count": null,
   "metadata": {},
   "outputs": [],
   "source": []
  }
 ],
 "metadata": {
  "kernelspec": {
   "display_name": "Python 3",
   "language": "python",
   "name": "python3"
  },
  "language_info": {
   "codemirror_mode": {
    "name": "ipython",
    "version": 3
   },
   "file_extension": ".py",
   "mimetype": "text/x-python",
   "name": "python",
   "nbconvert_exporter": "python",
   "pygments_lexer": "ipython3",
   "version": "3.8.8"
  },
  "toc": {
   "base_numbering": 1,
   "nav_menu": {},
   "number_sections": true,
   "sideBar": true,
   "skip_h1_title": false,
   "title_cell": "Table of Contents",
   "title_sidebar": "Contents",
   "toc_cell": false,
   "toc_position": {},
   "toc_section_display": true,
   "toc_window_display": false
  }
 },
 "nbformat": 4,
 "nbformat_minor": 4
}
