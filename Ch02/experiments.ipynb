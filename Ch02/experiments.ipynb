{
 "cells": [
  {
   "cell_type": "code",
   "execution_count": 1,
   "id": "4889a3bb",
   "metadata": {},
   "outputs": [
    {
     "data": {
      "text/plain": [
       "3.1415826535897198"
      ]
     },
     "execution_count": 1,
     "metadata": {},
     "output_type": "execute_result"
    }
   ],
   "source": [
    "4  * sum((-1)**k / (2*k+1) for k in  range(0, 100000))"
   ]
  },
  {
   "cell_type": "markdown",
   "id": "f1df0514",
   "metadata": {},
   "source": [
    "Edit with _Markdown_: $y = \\cos(4 \\pi \\exp(x))$"
   ]
  },
  {
   "cell_type": "code",
   "execution_count": null,
   "id": "ac4f8aba",
   "metadata": {},
   "outputs": [],
   "source": []
  }
 ],
 "metadata": {
  "kernelspec": {
   "display_name": "Python 3",
   "language": "python",
   "name": "python3"
  },
  "language_info": {
   "codemirror_mode": {
    "name": "ipython",
    "version": 3
   },
   "file_extension": ".py",
   "mimetype": "text/x-python",
   "name": "python",
   "nbconvert_exporter": "python",
   "pygments_lexer": "ipython3",
   "version": "3.8.8"
  }
 },
 "nbformat": 4,
 "nbformat_minor": 5
}
