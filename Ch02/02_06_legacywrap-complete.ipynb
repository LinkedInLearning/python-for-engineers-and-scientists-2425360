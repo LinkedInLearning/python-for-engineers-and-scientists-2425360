{
 "cells": [
  {
   "cell_type": "markdown",
   "metadata": {},
   "source": [
    "# 02_06_legacywrap.ipynb - Wrapping legacy code with Cython, CFFI, and F2PY"
   ]
  },
  {
   "cell_type": "code",
   "execution_count": 1,
   "metadata": {},
   "outputs": [],
   "source": [
    "import math\n",
    "import numpy as np\n",
    "import matplotlib.pyplot as pp"
   ]
  },
  {
   "cell_type": "markdown",
   "metadata": {},
   "source": [
    "#### Code from 02_03_numpycompute.ipynb"
   ]
  },
  {
   "cell_type": "code",
   "execution_count": 2,
   "metadata": {},
   "outputs": [],
   "source": [
    "def initphi(n=64):\n",
    "    dx = 1/n\n",
    "    xs = np.linspace(0.5*dx, 1-0.5*dx, n)\n",
    "    \n",
    "    phi = np.zeros((n,n), 'd')\n",
    "    \n",
    "    phi[:,-1] = np.sin(2 * math.pi * xs)\n",
    "    phi[-1,:] = -np.sin(2 * math.pi * xs)\n",
    "    \n",
    "    return phi"
   ]
  },
  {
   "cell_type": "code",
   "execution_count": 3,
   "metadata": {},
   "outputs": [],
   "source": [
    "def showphi(array, colorbar=True):\n",
    "    pp.imshow(array.T, origin='lower', extent=(0,1,0,1),\n",
    "              vmin=-1, vmax=1, cmap='coolwarm')\n",
    "    \n",
    "    if colorbar:\n",
    "        pp.colorbar()"
   ]
  },
  {
   "cell_type": "markdown",
   "metadata": {},
   "source": [
    "#### Wrapping C with Cython"
   ]
  },
  {
   "cell_type": "code",
   "execution_count": 4,
   "metadata": {},
   "outputs": [
    {
     "name": "stdout",
     "output_type": "stream",
     "text": [
      "Overwriting gauss_iterate.c\n"
     ]
    }
   ],
   "source": [
    "%%file gauss_iterate.c\n",
    "\n",
    "#define A(i,j) (array[(i)*nx + (j)])\n",
    "\n",
    "void gauss_iterate(int nx, int ny, double *array, int iterations) {\n",
    "    for(int k=0; k<iterations; k++) {\n",
    "        for(int i=1; i<nx-1; i++) {\n",
    "            for(int j=1; j<ny-1; j++) {\n",
    "                A(i,j) = (A(i-1,j) + A(i+1,j) + A(i,j-1) + A(i,j+1)) / 4;\n",
    "            }\n",
    "        }\n",
    "    }\n",
    "}"
   ]
  },
  {
   "cell_type": "code",
   "execution_count": 5,
   "metadata": {},
   "outputs": [
    {
     "name": "stdout",
     "output_type": "stream",
     "text": [
      "Overwriting gauss_iterate.h\n"
     ]
    }
   ],
   "source": [
    "%%file gauss_iterate.h\n",
    "\n",
    "void gauss_iterate(int nx, int ny, double *array, int iterations);"
   ]
  },
  {
   "cell_type": "code",
   "execution_count": 6,
   "metadata": {},
   "outputs": [
    {
     "name": "stdout",
     "output_type": "stream",
     "text": [
      "Overwriting cgauss.pyx\n"
     ]
    }
   ],
   "source": [
    "%%file cgauss.pyx\n",
    "\n",
    "# cython: language_level=3\n",
    "\n",
    "cdef extern from \"gauss_iterate.h\":\n",
    "    cdef void gauss_iterate(int nx, int ny, double array[], int iterations)\n",
    "\n",
    "# it would be even safer to declare array with \"double [:,::1]\",\n",
    "# which would accept only contiguous arrays\n",
    "\n",
    "def gauss(double [:,:] array, int iterations):\n",
    "    # array is a Cython \"memoryview\", but it supports numpy\n",
    "    # operations such as obtaining its shape\n",
    "    cdef int nx = array.shape[0], ny = array.shape[1]\n",
    "    \n",
    "    # call the C function, obtaining the address of the first array item\n",
    "    gauss_iterate(nx, ny, &array[0,0], iterations)"
   ]
  },
  {
   "cell_type": "code",
   "execution_count": 7,
   "metadata": {},
   "outputs": [
    {
     "name": "stdout",
     "output_type": "stream",
     "text": [
      "Overwriting setup.py\n"
     ]
    }
   ],
   "source": [
    "%%file setup.py\n",
    "\n",
    "from setuptools import setup, Extension\n",
    "from Cython.Build import cythonize\n",
    "\n",
    "ext_modules = [\n",
    "    Extension(\"cgauss\",\n",
    "              sources=[\"cgauss.pyx\", \"gauss_iterate.c\"],\n",
    "              includes=[\"gauss_iterate.h\"]\n",
    "              )\n",
    "]\n",
    "\n",
    "setup(name=\"gauss\",\n",
    "      ext_modules=cythonize(ext_modules))"
   ]
  },
  {
   "cell_type": "code",
   "execution_count": 8,
   "metadata": {},
   "outputs": [
    {
     "name": "stdout",
     "output_type": "stream",
     "text": [
      "/Users/mvallisneri/opt/anaconda3/lib/python3.8/distutils/extension.py:131: UserWarning: Unknown Extension options: 'includes'\n",
      "  warnings.warn(msg)\n",
      "Compiling cgauss.pyx because it changed.\n",
      "[1/1] Cythonizing cgauss.pyx\n",
      "running build_ext\n",
      "building 'cgauss' extension\n",
      "gcc -Wno-unused-result -Wsign-compare -Wunreachable-code -DNDEBUG -g -fwrapv -O3 -Wall -Wstrict-prototypes -I/Users/mvallisneri/opt/anaconda3/include -arch x86_64 -I/Users/mvallisneri/opt/anaconda3/include -arch x86_64 -I/Users/mvallisneri/opt/anaconda3/include/python3.8 -c cgauss.c -o build/temp.macosx-10.9-x86_64-3.8/cgauss.o\n",
      "\u001b[1mcgauss.c:15372:3: \u001b[0m\u001b[0;1;35mwarning: \u001b[0m\u001b[1m'tp_print' is deprecated [-Wdeprecated-declarations]\u001b[0m\n",
      "  0, /*tp_print*/\n",
      "\u001b[0;1;32m  ^\n",
      "\u001b[0m\u001b[1m/Users/mvallisneri/opt/anaconda3/include/python3.8/cpython/object.h:260:5: \u001b[0m\u001b[0;1;30mnote: \u001b[0m'tp_print' has been explicitly marked deprecated here\u001b[0m\n",
      "    Py_DEPRECATED(3.8) int (*tp_print)(PyObject *, FILE *, int);\n",
      "\u001b[0;1;32m    ^\n",
      "\u001b[0m\u001b[1m/Users/mvallisneri/opt/anaconda3/include/python3.8/pyport.h:515:54: \u001b[0m\u001b[0;1;30mnote: \u001b[0mexpanded from macro 'Py_DEPRECATED'\u001b[0m\n",
      "#define Py_DEPRECATED(VERSION_UNUSED) __attribute__((__deprecated__))\n",
      "\u001b[0;1;32m                                                     ^\n",
      "\u001b[0m\u001b[1mcgauss.c:15491:3: \u001b[0m\u001b[0;1;35mwarning: \u001b[0m\u001b[1m'tp_print' is deprecated [-Wdeprecated-declarations]\u001b[0m\n",
      "  0, /*tp_print*/\n",
      "\u001b[0;1;32m  ^\n",
      "\u001b[0m\u001b[1m/Users/mvallisneri/opt/anaconda3/include/python3.8/cpython/object.h:260:5: \u001b[0m\u001b[0;1;30mnote: \u001b[0m'tp_print' has been explicitly marked deprecated here\u001b[0m\n",
      "    Py_DEPRECATED(3.8) int (*tp_print)(PyObject *, FILE *, int);\n",
      "\u001b[0;1;32m    ^\n",
      "\u001b[0m\u001b[1m/Users/mvallisneri/opt/anaconda3/include/python3.8/pyport.h:515:54: \u001b[0m\u001b[0;1;30mnote: \u001b[0mexpanded from macro 'Py_DEPRECATED'\u001b[0m\n",
      "#define Py_DEPRECATED(VERSION_UNUSED) __attribute__((__deprecated__))\n",
      "\u001b[0;1;32m                                                     ^\n",
      "\u001b[0m\u001b[1mcgauss.c:15752:3: \u001b[0m\u001b[0;1;35mwarning: \u001b[0m\u001b[1m'tp_print' is deprecated [-Wdeprecated-declarations]\u001b[0m\n",
      "  0, /*tp_print*/\n",
      "\u001b[0;1;32m  ^\n",
      "\u001b[0m\u001b[1m/Users/mvallisneri/opt/anaconda3/include/python3.8/cpython/object.h:260:5: \u001b[0m\u001b[0;1;30mnote: \u001b[0m'tp_print' has been explicitly marked deprecated here\u001b[0m\n",
      "    Py_DEPRECATED(3.8) int (*tp_print)(PyObject *, FILE *, int);\n",
      "\u001b[0;1;32m    ^\n",
      "\u001b[0m\u001b[1m/Users/mvallisneri/opt/anaconda3/include/python3.8/pyport.h:515:54: \u001b[0m\u001b[0;1;30mnote: \u001b[0mexpanded from macro 'Py_DEPRECATED'\u001b[0m\n",
      "#define Py_DEPRECATED(VERSION_UNUSED) __attribute__((__deprecated__))\n",
      "\u001b[0;1;32m                                                     ^\n",
      "\u001b[0m\u001b[1mcgauss.c:15898:3: \u001b[0m\u001b[0;1;35mwarning: \u001b[0m\u001b[1m'tp_print' is deprecated [-Wdeprecated-declarations]\u001b[0m\n",
      "  0, /*tp_print*/\n",
      "\u001b[0;1;32m  ^\n",
      "\u001b[0m\u001b[1m/Users/mvallisneri/opt/anaconda3/include/python3.8/cpython/object.h:260:5: \u001b[0m\u001b[0;1;30mnote: \u001b[0m'tp_print' has been explicitly marked deprecated here\u001b[0m\n",
      "    Py_DEPRECATED(3.8) int (*tp_print)(PyObject *, FILE *, int);\n",
      "\u001b[0;1;32m    ^\n",
      "\u001b[0m\u001b[1m/Users/mvallisneri/opt/anaconda3/include/python3.8/pyport.h:515:54: \u001b[0m\u001b[0;1;30mnote: \u001b[0mexpanded from macro 'Py_DEPRECATED'\u001b[0m\n",
      "#define Py_DEPRECATED(VERSION_UNUSED) __attribute__((__deprecated__))\n",
      "\u001b[0;1;32m                                                     ^\n",
      "\u001b[0m4 warnings generated.\n",
      "gcc -Wno-unused-result -Wsign-compare -Wunreachable-code -DNDEBUG -g -fwrapv -O3 -Wall -Wstrict-prototypes -I/Users/mvallisneri/opt/anaconda3/include -arch x86_64 -I/Users/mvallisneri/opt/anaconda3/include -arch x86_64 -I/Users/mvallisneri/opt/anaconda3/include/python3.8 -c gauss_iterate.c -o build/temp.macosx-10.9-x86_64-3.8/gauss_iterate.o\n",
      "gcc -bundle -undefined dynamic_lookup -L/Users/mvallisneri/opt/anaconda3/lib -arch x86_64 -L/Users/mvallisneri/opt/anaconda3/lib -arch x86_64 -arch x86_64 build/temp.macosx-10.9-x86_64-3.8/cgauss.o build/temp.macosx-10.9-x86_64-3.8/gauss_iterate.o -o build/lib.macosx-10.9-x86_64-3.8/cgauss.cpython-38-darwin.so\n",
      "copying build/lib.macosx-10.9-x86_64-3.8/cgauss.cpython-38-darwin.so -> \n"
     ]
    }
   ],
   "source": [
    "!python setup.py build_ext --inplace"
   ]
  },
  {
   "cell_type": "code",
   "execution_count": 9,
   "metadata": {},
   "outputs": [],
   "source": [
    "import cgauss"
   ]
  },
  {
   "cell_type": "code",
   "execution_count": 10,
   "metadata": {},
   "outputs": [
    {
     "data": {
      "text/plain": [
       "<function cgauss.gauss>"
      ]
     },
     "execution_count": 10,
     "metadata": {},
     "output_type": "execute_result"
    }
   ],
   "source": [
    "cgauss.gauss"
   ]
  },
  {
   "cell_type": "code",
   "execution_count": 11,
   "metadata": {},
   "outputs": [],
   "source": [
    "phi = initphi(128)"
   ]
  },
  {
   "cell_type": "code",
   "execution_count": 12,
   "metadata": {},
   "outputs": [],
   "source": [
    "cgauss.gauss(phi, 2000)"
   ]
  },
  {
   "cell_type": "code",
   "execution_count": 13,
   "metadata": {},
   "outputs": [
    {
     "data": {
      "image/png": "[encoded data removed]",
      "text/plain": [
       "<Figure size 432x288 with 2 Axes>"
      ]
     },
     "metadata": {
      "needs_background": "light"
     },
     "output_type": "display_data"
    }
   ],
   "source": [
    "showphi(phi)"
   ]
  },
  {
   "cell_type": "markdown",
   "metadata": {},
   "source": [
    "#### Wrapping C with CFFI"
   ]
  },
  {
   "cell_type": "code",
   "execution_count": 14,
   "metadata": {},
   "outputs": [],
   "source": [
    "# on OS X or Linux (including WSL)\n",
    "!gcc -I. gauss_iterate.c -shared -o gauss_iterate.so"
   ]
  },
  {
   "cell_type": "code",
   "execution_count": null,
   "metadata": {},
   "outputs": [],
   "source": [
    "# on Windows with Visual Studio 2019\n",
    "# open the x64 Native Tools Command Prompt\n",
    "# navigate to Ch02 folder\n",
    "\n",
    "# cl /LD gauss_iterate.c"
   ]
  },
  {
   "cell_type": "code",
   "execution_count": 15,
   "metadata": {},
   "outputs": [],
   "source": [
    "from cffi import FFI"
   ]
  },
  {
   "cell_type": "code",
   "execution_count": 16,
   "metadata": {},
   "outputs": [],
   "source": [
    "ffi = FFI()"
   ]
  },
  {
   "cell_type": "code",
   "execution_count": 17,
   "metadata": {},
   "outputs": [],
   "source": [
    "ffi.cdef(\"void gauss_iterate(int nx, int ny, double *array, int iterations);\")"
   ]
  },
  {
   "cell_type": "code",
   "execution_count": 18,
   "metadata": {},
   "outputs": [],
   "source": [
    "cfgauss = ffi.dlopen('./gauss_iterate.so')\n",
    "\n",
    "# on Windows with Visual Studio 2019\n",
    "# cfgauss = ffi.dlopen('gauss_iterate.dll')"
   ]
  },
  {
   "cell_type": "code",
   "execution_count": 19,
   "metadata": {},
   "outputs": [
    {
     "data": {
      "text/plain": [
       "<cffi.api._make_ffi_library.<locals>.FFILibrary at 0x7fa76144a520>"
      ]
     },
     "execution_count": 19,
     "metadata": {},
     "output_type": "execute_result"
    }
   ],
   "source": [
    "cfgauss"
   ]
  },
  {
   "cell_type": "code",
   "execution_count": 20,
   "metadata": {},
   "outputs": [],
   "source": [
    "phi = initphi(128)"
   ]
  },
  {
   "cell_type": "code",
   "execution_count": 22,
   "metadata": {},
   "outputs": [],
   "source": [
    "cfgauss.gauss_iterate(128, 128, ffi.cast(\"double *\", phi.ctypes.data), 2000)"
   ]
  },
  {
   "cell_type": "code",
   "execution_count": 23,
   "metadata": {},
   "outputs": [
    {
     "data": {
      "image/png": "[encoded data removed]",
      "text/plain": [
       "<Figure size 432x288 with 2 Axes>"
      ]
     },
     "metadata": {
      "needs_background": "light"
     },
     "output_type": "display_data"
    }
   ],
   "source": [
    "showphi(phi)"
   ]
  },
  {
   "cell_type": "markdown",
   "metadata": {},
   "source": [
    "#### Wrapping Fortran with f2py"
   ]
  },
  {
   "cell_type": "code",
   "execution_count": 24,
   "metadata": {},
   "outputs": [
    {
     "name": "stdout",
     "output_type": "stream",
     "text": [
      "Writing gauss_iterate.f90\n"
     ]
    }
   ],
   "source": [
    "%%file gauss_iterate.f90\n",
    "\n",
    "subroutine gauss(array,nx,ny,iterations)\n",
    "    implicit none\n",
    "\n",
    "    real*8, dimension(0:nx-1,0:ny-1), intent(inout) :: array\n",
    "    integer, intent(in)                             :: nx,ny,iterations\n",
    "\n",
    "    integer k,i,j\n",
    "            \n",
    "    do k=1,iterations\n",
    "        do i=1,nx-2\n",
    "            do j=1,ny-2\n",
    "                array(i,j) = (array(i-1,j) + array(i+1,j) + array(i,j-1) + array(i,j+1)) / 4\n",
    "            end do\n",
    "        end do\n",
    "    end do\n",
    "\n",
    "    return\n",
    "end subroutine gauss"
   ]
  },
  {
   "cell_type": "code",
   "execution_count": 25,
   "metadata": {},
   "outputs": [
    {
     "name": "stdout",
     "output_type": "stream",
     "text": [
      "\u001b[39mrunning build\u001b[0m\n",
      "\u001b[39mrunning config_cc\u001b[0m\n",
      "\u001b[39munifing config_cc, config, build_clib, build_ext, build commands --compiler options\u001b[0m\n",
      "\u001b[39mrunning config_fc\u001b[0m\n",
      "\u001b[39munifing config_fc, config, build_clib, build_ext, build commands --fcompiler options\u001b[0m\n",
      "\u001b[39mrunning build_src\u001b[0m\n",
      "\u001b[39mbuild_src\u001b[0m\n",
      "\u001b[39mbuilding extension \"fgauss\" sources\u001b[0m\n",
      "\u001b[39mf2py options: []\u001b[0m\n",
      "\u001b[39mf2py:> /var/folders/6j/wvt2v7cd7vl2cblmw1rt77zw0000gr/T/tmplje281zb/src.macosx-10.9-x86_64-3.8/fgaussmodule.c\u001b[0m\n",
      "\u001b[39mcreating /var/folders/6j/wvt2v7cd7vl2cblmw1rt77zw0000gr/T/tmplje281zb/src.macosx-10.9-x86_64-3.8\u001b[0m\n",
      "Reading fortran codes...\n",
      "\tReading file 'gauss_iterate.f90' (format:free)\n",
      "Post-processing...\n",
      "\tBlock: fgauss\n",
      "\t\t\tBlock: gauss\n",
      "Post-processing (stage 2)...\n",
      "Building modules...\n",
      "\tBuilding module \"fgauss\"...\n",
      "\t\tConstructing wrapper function \"gauss\"...\n",
      "\t\t  gauss(array,iterations,[nx,ny])\n",
      "\tWrote C/API module \"fgauss\" to file \"/var/folders/6j/wvt2v7cd7vl2cblmw1rt77zw0000gr/T/tmplje281zb/src.macosx-10.9-x86_64-3.8/fgaussmodule.c\"\n",
      "\u001b[39m  adding '/var/folders/6j/wvt2v7cd7vl2cblmw1rt77zw0000gr/T/tmplje281zb/src.macosx-10.9-x86_64-3.8/fortranobject.c' to sources.\u001b[0m\n",
      "\u001b[39m  adding '/var/folders/6j/wvt2v7cd7vl2cblmw1rt77zw0000gr/T/tmplje281zb/src.macosx-10.9-x86_64-3.8' to include_dirs.\u001b[0m\n",
      "\u001b[39mcopying /Users/mvallisneri/opt/anaconda3/lib/python3.8/site-packages/numpy/f2py/src/fortranobject.c -> /var/folders/6j/wvt2v7cd7vl2cblmw1rt77zw0000gr/T/tmplje281zb/src.macosx-10.9-x86_64-3.8\u001b[0m\n",
      "\u001b[39mcopying /Users/mvallisneri/opt/anaconda3/lib/python3.8/site-packages/numpy/f2py/src/fortranobject.h -> /var/folders/6j/wvt2v7cd7vl2cblmw1rt77zw0000gr/T/tmplje281zb/src.macosx-10.9-x86_64-3.8\u001b[0m\n",
      "\u001b[39mbuild_src: building npy-pkg config files\u001b[0m\n",
      "\u001b[39mrunning build_ext\u001b[0m\n",
      "\u001b[39mcustomize UnixCCompiler\u001b[0m\n",
      "\u001b[39mcustomize UnixCCompiler using build_ext\u001b[0m\n",
      "\u001b[39mget_default_fcompiler: matching types: '['gnu95', 'nag', 'absoft', 'ibm', 'intel', 'gnu', 'g95', 'pg']'\u001b[0m\n",
      "\u001b[39mcustomize Gnu95FCompiler\u001b[0m\n",
      "\u001b[39mFound executable /usr/local/bin/gfortran\u001b[0m\n",
      "\u001b[39mcustomize Gnu95FCompiler\u001b[0m\n",
      "\u001b[39mcustomize Gnu95FCompiler using build_ext\u001b[0m\n",
      "\u001b[39mbuilding 'fgauss' extension\u001b[0m\n",
      "\u001b[39mcompiling C sources\u001b[0m\n",
      "\u001b[39mC compiler: gcc -Wno-unused-result -Wsign-compare -Wunreachable-code -DNDEBUG -g -fwrapv -O3 -Wall -Wstrict-prototypes -I/Users/mvallisneri/opt/anaconda3/include -arch x86_64 -I/Users/mvallisneri/opt/anaconda3/include -arch x86_64\n",
      "\u001b[0m\n",
      "\u001b[39mcreating /var/folders/6j/wvt2v7cd7vl2cblmw1rt77zw0000gr/T/tmplje281zb/var\u001b[0m\n",
      "\u001b[39mcreating /var/folders/6j/wvt2v7cd7vl2cblmw1rt77zw0000gr/T/tmplje281zb/var/folders\u001b[0m\n",
      "\u001b[39mcreating /var/folders/6j/wvt2v7cd7vl2cblmw1rt77zw0000gr/T/tmplje281zb/var/folders/6j\u001b[0m\n",
      "\u001b[39mcreating /var/folders/6j/wvt2v7cd7vl2cblmw1rt77zw0000gr/T/tmplje281zb/var/folders/6j/wvt2v7cd7vl2cblmw1rt77zw0000gr\u001b[0m\n",
      "\u001b[39mcreating /var/folders/6j/wvt2v7cd7vl2cblmw1rt77zw0000gr/T/tmplje281zb/var/folders/6j/wvt2v7cd7vl2cblmw1rt77zw0000gr/T\u001b[0m\n",
      "\u001b[39mcreating /var/folders/6j/wvt2v7cd7vl2cblmw1rt77zw0000gr/T/tmplje281zb/var/folders/6j/wvt2v7cd7vl2cblmw1rt77zw0000gr/T/tmplje281zb\u001b[0m\n",
      "\u001b[39mcreating /var/folders/6j/wvt2v7cd7vl2cblmw1rt77zw0000gr/T/tmplje281zb/var/folders/6j/wvt2v7cd7vl2cblmw1rt77zw0000gr/T/tmplje281zb/src.macosx-10.9-x86_64-3.8\u001b[0m\n",
      "\u001b[39mcompile options: '-DNPY_DISABLE_OPTIMIZATION=1 -I/var/folders/6j/wvt2v7cd7vl2cblmw1rt77zw0000gr/T/tmplje281zb/src.macosx-10.9-x86_64-3.8 -I/Users/mvallisneri/opt/anaconda3/lib/python3.8/site-packages/numpy/core/include -I/Users/mvallisneri/opt/anaconda3/include/python3.8 -c'\u001b[0m\n",
      "\u001b[39mgcc: /var/folders/6j/wvt2v7cd7vl2cblmw1rt77zw0000gr/T/tmplje281zb/src.macosx-10.9-x86_64-3.8/fortranobject.c\u001b[0m\n",
      "\u001b[39mgcc: /var/folders/6j/wvt2v7cd7vl2cblmw1rt77zw0000gr/T/tmplje281zb/src.macosx-10.9-x86_64-3.8/fgaussmodule.c\u001b[0m\n",
      "In file included from /var/folders/6j/wvt2v7cd7vl2cblmw1rt77zw0000gr/T/tmplje281zb/src.macosx-10.9-x86_64-3.8/fgaussmodule.c:16:\n",
      "In file included from /var/folders/6j/wvt2v7cd7vl2cblmw1rt77zw0000gr/T/tmplje281zb/src.macosx-10.9-x86_64-3.8/fortranobject.h:13:\n",
      "In file included from /Users/mvallisneri/opt/anaconda3/lib/python3.8/site-packages/numpy/core/include/numpy/arrayobject.h:4:\n",
      "In file included from /Users/mvallisneri/opt/anaconda3/lib/python3.8/site-packages/numpy/core/include/numpy/ndarrayobject.h:12:\n",
      "In file included from /Users/mvallisneri/opt/anaconda3/lib/python3.8/site-packages/numpy/core/include/numpy/ndarraytypes.h:1944:\n",
      "\u001b[1m/Users/mvallisneri/opt/anaconda3/lib/python3.8/site-packages/numpy/core/include/numpy/npy_1_7_deprecated_api.h:17:2: In file included from /var/folders/6j/wvt2v7cd7vl2cblmw1rt77zw0000gr/T/tmplje281zb/src.macosx-10.9-x86_64-3.8/fortranobject.c:\u001b[0m2:\n",
      "In file included from /var/folders/6j/wvt2v7cd7vl2cblmw1rt77zw0000gr/T/tmplje281zb/src.macosx-10.9-x86_64-3.8/fortranobject\u001b[0;1;35mwarning: \u001b[0m\u001b[1m\"Using deprecated NumPy API, disable it with \"          \"#define NPY_NO_DEPRECATED_API NPY_1_7_API_VERSION\" [-W#warnings]\u001b[0m\n",
      ".h:13:\n",
      "In file included from /Users/mvallisneri/opt/anaconda3/lib/python3.8/site-packages/numpy/core/include/numpy/arrayobject.h:4:\n",
      "In file included from /Users/mvallisneri/opt/anaconda3/lib/python3.8/site-packages/numpy/core/include/numpy/ndarrayobject.h:12:\n",
      "In file included from /Users/mvallisneri/opt/anaconda3/lib/python3.8/site-packages/numpy/core/include/numpy/ndarraytypes.h:1944:\n",
      "\u001b[1m/Users/mvallisneri/opt/anaconda3/lib/python3.8/site-packages/numpy/core/include/numpy/npy_1_7_deprecated_api.h:17:2: \u001b[0m#warning \"Using deprecated NumPy API, disable it with \" \\\u001b[0;1;35m\n",
      "warning\u001b[0;1;32m:  ^\u001b[0m\n",
      "\u001b[1m\u001b[0m\"Using deprecated NumPy API, disable it with \"          \"#define NPY_NO_DEPRECATED_API NPY_1_7_API_VERSION\" [-W#warnings]\u001b[0m\n",
      "#warning \"Using deprecated NumPy API, disable it with \" \\\n",
      "\u001b[0;1;32m ^\n",
      "\u001b[0m\u001b[1m/var/folders/6j/wvt2v7cd7vl2cblmw1rt77zw0000gr/T/tmplje281zb/src.macosx-10.9-x86_64-3.8/fgaussmodule.c:109:12: \u001b[0m\u001b[0;1;35mwarning: \u001b[0m\u001b[1munused function 'f2py_size' [-Wunused-function]\u001b[0m\n",
      "static int f2py_size(PyArrayObject* var, ...)\n",
      "\u001b[0;1;32m           ^\n",
      "\u001b[0m2 warnings generated.\n",
      "1 warning generated.\n",
      "\u001b[39mcompiling Fortran sources\u001b[0m\n",
      "\u001b[39mFortran f77 compiler: /usr/local/bin/gfortran -Wall -g -ffixed-form -fno-second-underscore -arch x86_64 -fPIC -O3 -funroll-loops\n",
      "Fortran f90 compiler: /usr/local/bin/gfortran -Wall -g -fno-second-underscore -arch x86_64 -fPIC -O3 -funroll-loops\n",
      "Fortran fix compiler: /usr/local/bin/gfortran -Wall -g -ffixed-form -fno-second-underscore -Wall -g -fno-second-underscore -arch x86_64 -fPIC -O3 -funroll-loops\u001b[0m\n",
      "\u001b[39mcompile options: '-I/var/folders/6j/wvt2v7cd7vl2cblmw1rt77zw0000gr/T/tmplje281zb/src.macosx-10.9-x86_64-3.8 -I/Users/mvallisneri/opt/anaconda3/lib/python3.8/site-packages/numpy/core/include -I/Users/mvallisneri/opt/anaconda3/include/python3.8 -c'\u001b[0m\n",
      "\u001b[39mgfortran:f90: gauss_iterate.f90\u001b[0m\n",
      "\u001b[39m/usr/local/bin/gfortran -Wall -g -arch x86_64 -Wall -g -undefined dynamic_lookup -bundle /var/folders/6j/wvt2v7cd7vl2cblmw1rt77zw0000gr/T/tmplje281zb/var/folders/6j/wvt2v7cd7vl2cblmw1rt77zw0000gr/T/tmplje281zb/src.macosx-10.9-x86_64-3.8/fgaussmodule.o /var/folders/6j/wvt2v7cd7vl2cblmw1rt77zw0000gr/T/tmplje281zb/var/folders/6j/wvt2v7cd7vl2cblmw1rt77zw0000gr/T/tmplje281zb/src.macosx-10.9-x86_64-3.8/fortranobject.o /var/folders/6j/wvt2v7cd7vl2cblmw1rt77zw0000gr/T/tmplje281zb/gauss_iterate.o -L/usr/local/Cellar/gcc/10.2.0_3/lib/gcc/10/gcc/x86_64-apple-darwin20/10.2.0 -L/usr/local/Cellar/gcc/10.2.0_3/lib/gcc/10/gcc/x86_64-apple-darwin20/10.2.0/../../.. -L/usr/local/Cellar/gcc/10.2.0_3/lib/gcc/10/gcc/x86_64-apple-darwin20/10.2.0/../../.. -lgfortran -o ./fgauss.cpython-38-darwin.so\u001b[0m\n",
      "ld: warning: dylib (/usr/local/Cellar/gcc/10.2.0_3/lib/gcc/10/libgfortran.dylib) was built for newer macOS version (11.1) than being linked (10.9)\n",
      "ld: warning: dylib (/usr/local/Cellar/gcc/10.2.0_3/lib/gcc/10/libquadmath.dylib) was built for newer macOS version (11.1) than being linked (10.9)\n",
      "Removing build directory /var/folders/6j/wvt2v7cd7vl2cblmw1rt77zw0000gr/T/tmplje281zb\n"
     ]
    }
   ],
   "source": [
    "!f2py3 -m fgauss -c gauss_iterate.f90"
   ]
  },
  {
   "cell_type": "code",
   "execution_count": 26,
   "metadata": {},
   "outputs": [],
   "source": [
    "import fgauss"
   ]
  },
  {
   "cell_type": "code",
   "execution_count": 27,
   "metadata": {},
   "outputs": [],
   "source": [
    "?fgauss.gauss"
   ]
  },
  {
   "cell_type": "code",
   "execution_count": 28,
   "metadata": {},
   "outputs": [],
   "source": [
    "fphi = np.asfortranarray(initphi(128))"
   ]
  },
  {
   "cell_type": "code",
   "execution_count": 29,
   "metadata": {},
   "outputs": [],
   "source": [
    "fgauss.gauss(fphi, 2000)"
   ]
  },
  {
   "cell_type": "code",
   "execution_count": 30,
   "metadata": {},
   "outputs": [
    {
     "data": {
      "image/png": "[encoded data removed]",
      "text/plain": [
       "<Figure size 432x288 with 2 Axes>"
      ]
     },
     "metadata": {
      "needs_background": "light"
     },
     "output_type": "display_data"
    }
   ],
   "source": [
    "showphi(fphi)"
   ]
  },
  {
   "cell_type": "markdown",
   "metadata": {},
   "source": [
    "#### Wrapping Fortran with fortran-magic"
   ]
  },
  {
   "cell_type": "code",
   "execution_count": 31,
   "metadata": {},
   "outputs": [
    {
     "data": {
      "application/javascript": [
       "new Promise(function(resolve, reject) {\n",
       "\tvar script = document.createElement(\"script\");\n",
       "\tscript.onload = resolve;\n",
       "\tscript.onerror = reject;\n",
       "\tscript.src = \"https://raw.github.com/marijnh/CodeMirror/master/mode/fortran/fortran.js\";\n",
       "\tdocument.head.appendChild(script);\n",
       "}).then(() => {\n",
       "IPython.config.cell_magic_highlight['magic_fortran'] = {'reg':[/^%%fortran/]};\n",
       "});"
      ]
     },
     "metadata": {},
     "output_type": "display_data"
    }
   ],
   "source": [
    "# !pip install fortran-magic\n",
    "%load_ext fortranmagic"
   ]
  },
  {
   "cell_type": "code",
   "execution_count": 32,
   "metadata": {},
   "outputs": [],
   "source": [
    "%%fortran\n",
    "\n",
    "subroutine fgauss(array,nx,ny,iterations)\n",
    "    implicit none\n",
    "\n",
    "    real*8, dimension(0:nx-1,0:ny-1), intent(inout) :: array\n",
    "    integer, intent(in)                             :: nx,ny,iterations\n",
    "\n",
    "    integer k,i,j\n",
    "            \n",
    "    do k=1,iterations\n",
    "        do i=1,nx-2\n",
    "            do j=1,ny-2\n",
    "                array(i,j) = (array(i-1,j) + array(i+1,j) + array(i,j-1) + array(i,j+1)) / 4\n",
    "            end do\n",
    "        end do\n",
    "    end do\n",
    "\n",
    "    return\n",
    "end subroutine fgauss"
   ]
  },
  {
   "cell_type": "code",
   "execution_count": 33,
   "metadata": {},
   "outputs": [
    {
     "data": {
      "text/plain": [
       "<fortran object>"
      ]
     },
     "execution_count": 33,
     "metadata": {},
     "output_type": "execute_result"
    }
   ],
   "source": [
    "fgauss"
   ]
  },
  {
   "cell_type": "code",
   "execution_count": 34,
   "metadata": {},
   "outputs": [],
   "source": [
    "?fgauss"
   ]
  },
  {
   "cell_type": "code",
   "execution_count": null,
   "metadata": {},
   "outputs": [],
   "source": []
  }
 ],
 "metadata": {
  "kernelspec": {
   "display_name": "Python 3",
   "language": "python",
   "name": "python3"
  },
  "language_info": {
   "codemirror_mode": {
    "name": "ipython",
    "version": 3
   },
   "file_extension": ".py",
   "mimetype": "text/x-python",
   "name": "python",
   "nbconvert_exporter": "python",
   "pygments_lexer": "ipython3",
   "version": "3.8.8"
  },
  "toc": {
   "base_numbering": 1,
   "nav_menu": {},
   "number_sections": true,
   "sideBar": true,
   "skip_h1_title": false,
   "title_cell": "Table of Contents",
   "title_sidebar": "Contents",
   "toc_cell": false,
   "toc_position": {},
   "toc_section_display": true,
   "toc_window_display": false
  }
 },
 "nbformat": 4,
 "nbformat_minor": 4
}
